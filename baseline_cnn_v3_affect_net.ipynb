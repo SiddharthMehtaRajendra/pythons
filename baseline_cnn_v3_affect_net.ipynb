{
 "cells": [
  {
   "cell_type": "code",
   "execution_count": 1,
   "metadata": {
    "colab": {},
    "colab_type": "code",
    "id": "hdRpCepJz7XV",
    "pycharm": {
     "is_executing": false
    }
   },
   "outputs": [],
   "source": [
    "import os\n",
    "import torch\n",
    "import torch.nn as nn\n",
    "import torch.nn.functional as F\n",
    "import torch.optim as optim\n",
    "from torch.utils.data import Dataset, DataLoader\n",
    "cuda = torch.cuda.is_available()\n",
    "import numpy as np\n",
    "import collections\n",
    "import matplotlib.mlab as mlab\n",
    "import matplotlib.pyplot as plt\n",
    "from skimage import io\n"
   ]
  },
  {
   "cell_type": "code",
   "execution_count": 2,
   "metadata": {
    "colab": {},
    "colab_type": "code",
    "id": "34BLnzCbzd6w",
    "pycharm": {
     "is_executing": false
    }
   },
   "outputs": [],
   "source": [
    "import torchvision\n",
    "from PIL import Image\n",
    "\n",
    "#981\n",
    "train_size= 589\n",
    "val_size= 196\n",
    "test_size = 196"
   ]
  },
  {
   "cell_type": "code",
   "execution_count": 3,
   "metadata": {},
   "outputs": [],
   "source": [
    "from torchvision import models"
   ]
  },
  {
   "cell_type": "code",
   "execution_count": 4,
   "metadata": {},
   "outputs": [],
   "source": [
    "import csv"
   ]
  },
  {
   "cell_type": "code",
   "execution_count": 5,
   "metadata": {},
   "outputs": [],
   "source": [
    "train_data_map = {}"
   ]
  },
  {
   "cell_type": "code",
   "execution_count": 6,
   "metadata": {},
   "outputs": [],
   "source": [
    "val_data_map = {}"
   ]
  },
  {
   "cell_type": "code",
   "execution_count": 7,
   "metadata": {},
   "outputs": [],
   "source": [
    "with open(\"training.csv\", newline = '') as csvfile:\n",
    "    reader = csv.reader(csvfile, delimiter = ',')\n",
    "    for row in reader:\n",
    "        train_data_map[row[0]] = row[6]"
   ]
  },
  {
   "cell_type": "code",
   "execution_count": 8,
   "metadata": {},
   "outputs": [],
   "source": [
    "with open(\"validation.csv\", newline = '') as csvfile:\n",
    "    reader = csv.reader(csvfile, delimiter = ',')\n",
    "    for row in reader:\n",
    "        val_data_map[row[0]] = row[6]"
   ]
  },
  {
   "cell_type": "code",
   "execution_count": 9,
   "metadata": {
    "colab": {},
    "colab_type": "code",
    "id": "CXc2tVVQ7Cds",
    "pycharm": {
     "is_executing": false
    }
   },
   "outputs": [],
   "source": [
    "def parse_data(datadir, train_data_map, val_data_map):\n",
    "    train_img_list = []\n",
    "    val_img_list = []\n",
    "    extensions = [\"BMP\", \"JPEG\", \"JPG\", \"Jpeg\", \"PNG\", \"bmp\", \"jpeg\", \"jpg\", \"png\", \"tif\"]\n",
    "    for root, directories, filenames in os.walk(datadir): \n",
    "        for filename in filenames:\n",
    "            extenstion = filename.split(\".\")[-1]\n",
    "            if extenstion in extensions:  \n",
    "                \n",
    "                filei = os.path.join(root, filename)\n",
    "                split_filename = filei.split(\"/\")\n",
    "                filename = split_filename[-2] + \"/\" + split_filename[-1]\n",
    "                if filename in train_data_map:\n",
    "                    train_img_list.append(filei)\n",
    "                elif filename in val_data_map:\n",
    "                    val_img_list.append(filei)\n",
    "               \n",
    "    return train_img_list, val_img_list"
   ]
  },
  {
   "cell_type": "code",
   "execution_count": 10,
   "metadata": {
    "pycharm": {
     "is_executing": false
    }
   },
   "outputs": [],
   "source": [
    "train_img_list, val_img_list = parse_data(\"../Manually_Annotated_Images_Part_08\", train_data_map, val_data_map)"
   ]
  },
  {
   "cell_type": "code",
   "execution_count": 11,
   "metadata": {},
   "outputs": [
    {
     "data": {
      "text/plain": [
       "152860"
      ]
     },
     "execution_count": 11,
     "metadata": {},
     "output_type": "execute_result"
    }
   ],
   "source": [
    "len(train_img_list)"
   ]
  },
  {
   "cell_type": "code",
   "execution_count": 12,
   "metadata": {},
   "outputs": [
    {
     "data": {
      "text/plain": [
       "2312"
      ]
     },
     "execution_count": 12,
     "metadata": {},
     "output_type": "execute_result"
    }
   ],
   "source": [
    "len(val_img_list)"
   ]
  },
  {
   "cell_type": "code",
   "execution_count": 13,
   "metadata": {
    "colab": {
     "base_uri": "https://localhost:8080/",
     "height": 1000
    },
    "colab_type": "code",
    "executionInfo": {
     "elapsed": 446,
     "status": "ok",
     "timestamp": 1572058491942,
     "user": {
      "displayName": "Mohit Grover",
      "photoUrl": "",
      "userId": "17020987855024013058"
     },
     "user_tz": 420
    },
    "id": "tTjycRTo9_KN",
    "outputId": "95d0dd64-73dd-47cc-8d4e-993b43bd77d0",
    "pycharm": {
     "is_executing": false
    }
   },
   "outputs": [],
   "source": [
    "class ImageDataset(Dataset):\n",
    "    def __init__(self, img_list, data_map):\n",
    "        self.img_list = img_list\n",
    "        self.data_map = data_map\n",
    "        \n",
    "        \n",
    "    def __len__(self):\n",
    "        return len(self.img_list)\n",
    "\n",
    "    def __getitem__(self, index):\n",
    "        \n",
    "        img_file = self.img_list[index]\n",
    "        img = Image.open(img_file)\n",
    "        img_h = 224\n",
    "        img_w = 224\n",
    "        img = torchvision.transforms.Resize((img_h,img_w))(img)\n",
    "        img = torchvision.transforms.ToTensor()(img)\n",
    "        split_filename = img_file.split(\"/\")\n",
    "        filename = split_filename[-2] + \"/\" + split_filename[-1]\n",
    "        \n",
    "        label = self.data_map[filename]\n",
    "        return img, int(label)"
   ]
  },
  {
   "cell_type": "code",
   "execution_count": 14,
   "metadata": {},
   "outputs": [],
   "source": [
    "train_data = ImageDataset(train_img_list, train_data_map)"
   ]
  },
  {
   "cell_type": "code",
   "execution_count": 15,
   "metadata": {},
   "outputs": [
    {
     "data": {
      "text/plain": [
       "152860"
      ]
     },
     "execution_count": 15,
     "metadata": {},
     "output_type": "execute_result"
    }
   ],
   "source": [
    "len(train_data)"
   ]
  },
  {
   "cell_type": "code",
   "execution_count": 16,
   "metadata": {},
   "outputs": [],
   "source": [
    "train_dataset, val_dataset = torch.utils.data.random_split(train_data, (122288,30572))"
   ]
  },
  {
   "cell_type": "code",
   "execution_count": 17,
   "metadata": {},
   "outputs": [],
   "source": [
    "# for file_name in train_data_map:\n",
    "#     labels.add(train_data_map[file_name])"
   ]
  },
  {
   "cell_type": "code",
   "execution_count": 18,
   "metadata": {},
   "outputs": [],
   "source": [
    "val_data = ImageDataset(val_img_list, val_data_map)"
   ]
  },
  {
   "cell_type": "code",
   "execution_count": 19,
   "metadata": {},
   "outputs": [],
   "source": [
    "batch_size = 64\n",
    "train_dataloader = torch.utils.data.DataLoader(train_dataset, batch_size=batch_size, shuffle=True, num_workers=8)\n",
    "val_dataloader = torch.utils.data.DataLoader(val_dataset, batch_size=batch_size, shuffle=True, num_workers=8)\n",
    "\n",
    "\n"
   ]
  },
  {
   "cell_type": "code",
   "execution_count": 20,
   "metadata": {},
   "outputs": [],
   "source": [
    "import logging\n",
    "logging.basicConfig(filename=\"training_baseline_affectnet_part_8.log\" ,\n",
    "                            filemode=\"a+\")\n",
    "logger = logging.getLogger()\n",
    "handler = logging.StreamHandler()\n",
    "formatter = logging.Formatter('%(asctime)s %(name)-12s %(levelname)-8s %(message)s')\n",
    "handler.setFormatter(formatter)\n",
    "logger.addHandler(handler)\n",
    "logger.setLevel(logging.INFO)"
   ]
  },
  {
   "cell_type": "code",
   "execution_count": 21,
   "metadata": {
    "colab": {},
    "colab_type": "code",
    "id": "1Wxrwfckzd7B",
    "pycharm": {
     "is_executing": false
    }
   },
   "outputs": [],
   "source": [
    "class ConvBlock(nn.Module):\n",
    "    def __init__(self, C_in, C_out, kernel_size, stride):\n",
    "        super(ConvBlock, self).__init__()\n",
    "        self.block = nn.Sequential(\n",
    "                          nn.Conv2d(in_channels=C_in, out_channels=C_out, kernel_size=kernel_size, stride=stride),\n",
    "                          nn.ReLU(),\n",
    "                          nn.MaxPool2d(2))\n",
    "        \n",
    "    def forward(self, x):\n",
    "        return self.block(x)\n",
    "    \n",
    "class Flatten(nn.Module):\n",
    "    def forward(self, input):\n",
    "        return input.view(input.size(0), -1)\n",
    "    \n",
    "class BaselineModel(nn.Module):\n",
    "    def __init__(self, num_blocks):\n",
    "        super(BaselineModel, self).__init__()\n",
    "        layers = []\n",
    "        num_classes = 11\n",
    "        channels = [3, 64, 128, 256] # this needs to be modified according to num_blocks\n",
    "        \n",
    "        for i in range(num_blocks):\n",
    "            layers.append(ConvBlock(C_in=channels[i], C_out=channels[i+1], kernel_size=5, stride=1))\n",
    "        \n",
    "        layers.append(nn.Dropout(p=0.25))\n",
    "        \n",
    "        layers.append(Flatten())\n",
    "        \n",
    "        layers.append(nn.Linear(256*24*24, 512))\n",
    "        \n",
    "        layers.append(nn.Dropout(p=0.5))\n",
    "        \n",
    "        layers.append(nn.Linear(512, num_classes))\n",
    "        \n",
    "        self.net = nn.Sequential(*layers)\n",
    "        \n",
    "    def forward(self, x):\n",
    "        return self.net(x)"
   ]
  },
  {
   "cell_type": "code",
   "execution_count": 22,
   "metadata": {
    "colab": {
     "base_uri": "https://localhost:8080/",
     "height": 527
    },
    "colab_type": "code",
    "executionInfo": {
     "elapsed": 6150,
     "status": "ok",
     "timestamp": 1572056426800,
     "user": {
      "displayName": "Tejasri Thota",
      "photoUrl": "https://lh3.googleusercontent.com/a-/AAuE7mA-qo0IWRkoBECjG3L_eRQ7NjBOkZxcaesklum9=s64",
      "userId": "10780644812533486358"
     },
     "user_tz": 420
    },
    "id": "re2Kdhiazd7C",
    "outputId": "bfb5ad37-62c5-4bf4-e910-452f67ca8b17",
    "pycharm": {
     "is_executing": false
    }
   },
   "outputs": [
    {
     "name": "stdout",
     "output_type": "stream",
     "text": [
      "BaselineModel(\n",
      "  (net): Sequential(\n",
      "    (0): ConvBlock(\n",
      "      (block): Sequential(\n",
      "        (0): Conv2d(3, 64, kernel_size=(5, 5), stride=(1, 1))\n",
      "        (1): ReLU()\n",
      "        (2): MaxPool2d(kernel_size=2, stride=2, padding=0, dilation=1, ceil_mode=False)\n",
      "      )\n",
      "    )\n",
      "    (1): ConvBlock(\n",
      "      (block): Sequential(\n",
      "        (0): Conv2d(64, 128, kernel_size=(5, 5), stride=(1, 1))\n",
      "        (1): ReLU()\n",
      "        (2): MaxPool2d(kernel_size=2, stride=2, padding=0, dilation=1, ceil_mode=False)\n",
      "      )\n",
      "    )\n",
      "    (2): ConvBlock(\n",
      "      (block): Sequential(\n",
      "        (0): Conv2d(128, 256, kernel_size=(5, 5), stride=(1, 1))\n",
      "        (1): ReLU()\n",
      "        (2): MaxPool2d(kernel_size=2, stride=2, padding=0, dilation=1, ceil_mode=False)\n",
      "      )\n",
      "    )\n",
      "    (3): Dropout(p=0.25, inplace=False)\n",
      "    (4): Flatten()\n",
      "    (5): Linear(in_features=147456, out_features=512, bias=True)\n",
      "    (6): Dropout(p=0.5, inplace=False)\n",
      "    (7): Linear(in_features=512, out_features=11, bias=True)\n",
      "  )\n",
      ")\n"
     ]
    }
   ],
   "source": [
    "model = BaselineModel(num_blocks=3)\n",
    "criterion = nn.CrossEntropyLoss()\n",
    "optimizer = optim.Adam(model.parameters())\n",
    "device = torch.device(\"cuda\" if cuda else \"cpu\")\n",
    "print(model)"
   ]
  },
  {
   "cell_type": "code",
   "execution_count": 23,
   "metadata": {
    "colab": {},
    "colab_type": "code",
    "id": "kRLEOoHdzd7E",
    "pycharm": {
     "is_executing": false
    }
   },
   "outputs": [],
   "source": [
    "def train(model,n_epochs,train_dataloader, test_loader):\n",
    "    model.train()\n",
    "    model.to(device)\n",
    "    train_losses = []\n",
    "    eval_losses = []\n",
    "    eval_accs = []\n",
    "    for epoch in range(n_epochs):\n",
    "        avg_loss = 0.0\n",
    "        for batch_num, (feats, labels) in enumerate(train_dataloader):\n",
    "            feats, labels = feats.to(device), labels.to(device)\n",
    "            optimizer.zero_grad()\n",
    "            outputs = model(feats)\n",
    "            loss = criterion(outputs, labels.long())\n",
    "            loss.backward()\n",
    "            \n",
    "            optimizer.step()\n",
    "            \n",
    "            avg_loss += loss.item()\n",
    "            if batch_num % 50 == 49:\n",
    "                logger.info('Epoch: {}\\tBatch: {}\\tAvg-Loss: {:.4f}'.format(epoch+1, batch_num+1, avg_loss/50))\n",
    " \n",
    "                avg_loss = 0.0    \n",
    "        \n",
    "            torch.cuda.empty_cache()\n",
    "            del feats\n",
    "            del labels\n",
    "            del loss\n",
    "        train_loss, train_accuracy = test_classify_loss(model,train_dataloader)\n",
    "        test_loss, test_accuracy = test_classify_loss(model,test_loader)\n",
    "        eval_losses.append(test_loss)\n",
    "        train_losses.append(train_loss)\n",
    "        eval_accs.append(test_accuracy)\n",
    "        logger.info('Epoch: {}\\tTrain Loss: {}\\tTrain Acc: {}\\tTest-Loss: {}\\tTest-acc: {:.4f}'.format(epoch+1, train_loss,train_accuracy, test_loss, test_accuracy))\n",
    "    return train_losses, eval_losses, eval_accs\n",
    "\n",
    "def test_classify_loss(model, test_loader):\n",
    "    with torch.no_grad():\n",
    "        model.eval()\n",
    "        test_loss = []\n",
    "        accuracies = 0\n",
    "        total = 0\n",
    "        for batch_num, (feats, labels) in enumerate(test_loader):\n",
    "            feats, labels = feats.to(device), labels.to(device)\n",
    "            outputs = model(feats)\n",
    "            _, pred_labels = torch.max(F.softmax(outputs, dim=1), 1)\n",
    "            pred_labels = pred_labels.view(-1)\n",
    "            loss = criterion(outputs, labels.long())\n",
    "            accuracies += float(torch.sum(torch.eq(pred_labels, labels)).item())\n",
    "            total+=float(len(labels))\n",
    "            test_loss.extend([loss.item()]*feats.size()[0])\n",
    "            torch.cuda.empty_cache()\n",
    "            del feats\n",
    "            del labels\n",
    "    model.train()\n",
    "    return np.mean(test_loss), accuracies/total"
   ]
  },
  {
   "cell_type": "code",
   "execution_count": null,
   "metadata": {
    "colab": {
     "base_uri": "https://localhost:8080/",
     "height": 429
    },
    "colab_type": "code",
    "executionInfo": {
     "elapsed": 30341,
     "status": "error",
     "timestamp": 1572056451006,
     "user": {
      "displayName": "Tejasri Thota",
      "photoUrl": "https://lh3.googleusercontent.com/a-/AAuE7mA-qo0IWRkoBECjG3L_eRQ7NjBOkZxcaesklum9=s64",
      "userId": "10780644812533486358"
     },
     "user_tz": 420
    },
    "id": "ACkvD4NVzd7G",
    "outputId": "9e3fc8f9-69ae-45f6-de28-8bdbbeb73637",
    "pycharm": {
     "is_executing": false
    }
   },
   "outputs": [
    {
     "name": "stderr",
     "output_type": "stream",
     "text": [
      "2019-11-27 01:03:56,753 root         INFO     Epoch: 1\tBatch: 50\tAvg-Loss: 1.0676\n",
      "2019-11-27 01:04:05,812 root         INFO     Epoch: 1\tBatch: 100\tAvg-Loss: 1.0768\n",
      "2019-11-27 01:04:14,876 root         INFO     Epoch: 1\tBatch: 150\tAvg-Loss: 1.0697\n",
      "2019-11-27 01:04:23,932 root         INFO     Epoch: 1\tBatch: 200\tAvg-Loss: 1.0810\n",
      "2019-11-27 01:04:33,050 root         INFO     Epoch: 1\tBatch: 250\tAvg-Loss: 1.1194\n",
      "2019-11-27 01:04:42,152 root         INFO     Epoch: 1\tBatch: 300\tAvg-Loss: 1.0801\n",
      "2019-11-27 01:04:51,220 root         INFO     Epoch: 1\tBatch: 350\tAvg-Loss: 1.1070\n",
      "2019-11-27 01:05:00,334 root         INFO     Epoch: 1\tBatch: 400\tAvg-Loss: 1.0756\n",
      "2019-11-27 01:05:09,354 root         INFO     Epoch: 1\tBatch: 450\tAvg-Loss: 1.1501\n",
      "2019-11-27 01:05:18,328 root         INFO     Epoch: 1\tBatch: 500\tAvg-Loss: 1.1480\n",
      "2019-11-27 01:05:27,368 root         INFO     Epoch: 1\tBatch: 550\tAvg-Loss: 1.1255\n",
      "2019-11-27 01:05:36,447 root         INFO     Epoch: 1\tBatch: 600\tAvg-Loss: 1.0818\n",
      "2019-11-27 01:05:45,541 root         INFO     Epoch: 1\tBatch: 650\tAvg-Loss: 1.1324\n",
      "2019-11-27 01:05:54,549 root         INFO     Epoch: 1\tBatch: 700\tAvg-Loss: 1.1657\n",
      "2019-11-27 01:06:03,584 root         INFO     Epoch: 1\tBatch: 750\tAvg-Loss: 1.1860\n",
      "2019-11-27 01:06:12,621 root         INFO     Epoch: 1\tBatch: 800\tAvg-Loss: 1.1322\n",
      "2019-11-27 01:06:21,602 root         INFO     Epoch: 1\tBatch: 850\tAvg-Loss: 1.1585\n",
      "2019-11-27 01:06:30,614 root         INFO     Epoch: 1\tBatch: 900\tAvg-Loss: 1.1330\n",
      "2019-11-27 01:06:39,592 root         INFO     Epoch: 1\tBatch: 950\tAvg-Loss: 1.1397\n",
      "2019-11-27 01:06:48,517 root         INFO     Epoch: 1\tBatch: 1000\tAvg-Loss: 1.1703\n",
      "2019-11-27 01:06:57,612 root         INFO     Epoch: 1\tBatch: 1050\tAvg-Loss: 1.1802\n",
      "2019-11-27 01:07:06,631 root         INFO     Epoch: 1\tBatch: 1100\tAvg-Loss: 1.1536\n",
      "2019-11-27 01:07:15,655 root         INFO     Epoch: 1\tBatch: 1150\tAvg-Loss: 1.1664\n",
      "2019-11-27 01:07:24,670 root         INFO     Epoch: 1\tBatch: 1200\tAvg-Loss: 1.1228\n",
      "2019-11-27 01:07:33,648 root         INFO     Epoch: 1\tBatch: 1250\tAvg-Loss: 1.1351\n",
      "2019-11-27 01:07:42,552 root         INFO     Epoch: 1\tBatch: 1300\tAvg-Loss: 1.1479\n",
      "2019-11-27 01:07:51,480 root         INFO     Epoch: 1\tBatch: 1350\tAvg-Loss: 1.1643\n",
      "2019-11-27 01:08:00,491 root         INFO     Epoch: 1\tBatch: 1400\tAvg-Loss: 1.1688\n",
      "2019-11-27 01:08:09,540 root         INFO     Epoch: 1\tBatch: 1450\tAvg-Loss: 1.1815\n",
      "2019-11-27 01:08:18,679 root         INFO     Epoch: 1\tBatch: 1500\tAvg-Loss: 1.1484\n",
      "2019-11-27 01:08:27,689 root         INFO     Epoch: 1\tBatch: 1550\tAvg-Loss: 1.1993\n",
      "2019-11-27 01:08:36,800 root         INFO     Epoch: 1\tBatch: 1600\tAvg-Loss: 1.1122\n",
      "2019-11-27 01:08:45,855 root         INFO     Epoch: 1\tBatch: 1650\tAvg-Loss: 1.1725\n",
      "2019-11-27 01:08:54,840 root         INFO     Epoch: 1\tBatch: 1700\tAvg-Loss: 1.2220\n",
      "2019-11-27 01:09:03,839 root         INFO     Epoch: 1\tBatch: 1750\tAvg-Loss: 1.1807\n",
      "2019-11-27 01:09:12,842 root         INFO     Epoch: 1\tBatch: 1800\tAvg-Loss: 1.1754\n",
      "2019-11-27 01:09:21,835 root         INFO     Epoch: 1\tBatch: 1850\tAvg-Loss: 1.1922\n",
      "2019-11-27 01:09:30,861 root         INFO     Epoch: 1\tBatch: 1900\tAvg-Loss: 1.2016\n",
      "2019-11-27 01:15:21,959 root         INFO     Epoch: 1\tTrain Loss: 0.9427273826466233\tTrain Acc: 0.6756509224126652\tTest-Loss: 1.6016997274858984\tTest-acc: 0.5085\n",
      "2019-11-27 01:15:32,674 root         INFO     Epoch: 2\tBatch: 50\tAvg-Loss: 1.0215\n",
      "2019-11-27 01:15:41,675 root         INFO     Epoch: 2\tBatch: 100\tAvg-Loss: 1.0249\n",
      "2019-11-27 01:15:50,607 root         INFO     Epoch: 2\tBatch: 150\tAvg-Loss: 1.0590\n",
      "2019-11-27 01:15:59,609 root         INFO     Epoch: 2\tBatch: 200\tAvg-Loss: 1.0317\n",
      "2019-11-27 01:16:08,682 root         INFO     Epoch: 2\tBatch: 250\tAvg-Loss: 1.0815\n",
      "2019-11-27 01:16:17,657 root         INFO     Epoch: 2\tBatch: 300\tAvg-Loss: 1.0640\n",
      "2019-11-27 01:16:26,721 root         INFO     Epoch: 2\tBatch: 350\tAvg-Loss: 1.0666\n",
      "2019-11-27 01:16:35,723 root         INFO     Epoch: 2\tBatch: 400\tAvg-Loss: 1.0996\n",
      "2019-11-27 01:16:44,764 root         INFO     Epoch: 2\tBatch: 450\tAvg-Loss: 1.0812\n",
      "2019-11-27 01:16:53,841 root         INFO     Epoch: 2\tBatch: 500\tAvg-Loss: 1.0660\n",
      "2019-11-27 01:17:02,888 root         INFO     Epoch: 2\tBatch: 550\tAvg-Loss: 1.1118\n",
      "2019-11-27 01:17:11,940 root         INFO     Epoch: 2\tBatch: 600\tAvg-Loss: 1.1233\n",
      "2019-11-27 01:17:20,982 root         INFO     Epoch: 2\tBatch: 650\tAvg-Loss: 1.1050\n",
      "2019-11-27 01:17:30,047 root         INFO     Epoch: 2\tBatch: 700\tAvg-Loss: 1.1090\n",
      "2019-11-27 01:17:39,059 root         INFO     Epoch: 2\tBatch: 750\tAvg-Loss: 1.1372\n",
      "2019-11-27 01:17:48,133 root         INFO     Epoch: 2\tBatch: 800\tAvg-Loss: 1.0866\n",
      "2019-11-27 01:17:57,141 root         INFO     Epoch: 2\tBatch: 850\tAvg-Loss: 1.1272\n",
      "2019-11-27 01:18:06,197 root         INFO     Epoch: 2\tBatch: 900\tAvg-Loss: 1.0751\n",
      "2019-11-27 01:18:15,206 root         INFO     Epoch: 2\tBatch: 950\tAvg-Loss: 1.1214\n",
      "2019-11-27 01:18:24,272 root         INFO     Epoch: 2\tBatch: 1000\tAvg-Loss: 1.1374\n",
      "2019-11-27 01:18:33,244 root         INFO     Epoch: 2\tBatch: 1050\tAvg-Loss: 1.1114\n",
      "2019-11-27 01:18:42,244 root         INFO     Epoch: 2\tBatch: 1100\tAvg-Loss: 1.1113\n",
      "2019-11-27 01:18:51,282 root         INFO     Epoch: 2\tBatch: 1150\tAvg-Loss: 1.1292\n",
      "2019-11-27 01:19:00,440 root         INFO     Epoch: 2\tBatch: 1200\tAvg-Loss: 1.1084\n",
      "2019-11-27 01:19:09,362 root         INFO     Epoch: 2\tBatch: 1250\tAvg-Loss: 1.1156\n",
      "2019-11-27 01:19:18,419 root         INFO     Epoch: 2\tBatch: 1300\tAvg-Loss: 1.1698\n",
      "2019-11-27 01:19:27,439 root         INFO     Epoch: 2\tBatch: 1350\tAvg-Loss: 1.1675\n",
      "2019-11-27 01:19:36,482 root         INFO     Epoch: 2\tBatch: 1400\tAvg-Loss: 1.1042\n",
      "2019-11-27 01:19:45,474 root         INFO     Epoch: 2\tBatch: 1450\tAvg-Loss: 1.1629\n",
      "2019-11-27 01:19:54,574 root         INFO     Epoch: 2\tBatch: 1500\tAvg-Loss: 1.1341\n",
      "2019-11-27 01:20:03,641 root         INFO     Epoch: 2\tBatch: 1550\tAvg-Loss: 1.1590\n",
      "2019-11-27 01:20:12,604 root         INFO     Epoch: 2\tBatch: 1600\tAvg-Loss: 1.1837\n",
      "2019-11-27 01:20:21,654 root         INFO     Epoch: 2\tBatch: 1650\tAvg-Loss: 1.1647\n",
      "2019-11-27 01:20:30,674 root         INFO     Epoch: 2\tBatch: 1700\tAvg-Loss: 1.1294\n",
      "2019-11-27 01:20:39,659 root         INFO     Epoch: 2\tBatch: 1750\tAvg-Loss: 1.1760\n",
      "2019-11-27 01:20:48,651 root         INFO     Epoch: 2\tBatch: 1800\tAvg-Loss: 1.1653\n",
      "2019-11-27 01:20:57,626 root         INFO     Epoch: 2\tBatch: 1850\tAvg-Loss: 1.1457\n",
      "2019-11-27 01:21:06,660 root         INFO     Epoch: 2\tBatch: 1900\tAvg-Loss: 1.1710\n"
     ]
    }
   ],
   "source": [
    "train_losses, eval_losses, eval_accs = train(model,5, train_dataloader, val_dataloader)"
   ]
  },
  {
   "cell_type": "code",
   "execution_count": 28,
   "metadata": {
    "colab": {},
    "colab_type": "code",
    "id": "d6AXVsznzd7J",
    "pycharm": {
     "is_executing": false
    }
   },
   "outputs": [
    {
     "data": {
      "image/png": "[encoded data removed]",
      "text/plain": [
       "<Figure size 432x288 with 1 Axes>"
      ]
     },
     "metadata": {},
     "output_type": "display_data"
    }
   ],
   "source": [
    "plt.title('Training Loss')\n",
    "plt.xlabel('Epoch Number')\n",
    "plt.ylabel('Loss')\n",
    "plt.plot(train_losses)\n",
    "plt.savefig(\"training_loss.png\")"
   ]
  },
  {
   "cell_type": "code",
   "execution_count": 29,
   "metadata": {
    "pycharm": {
     "is_executing": false
    }
   },
   "outputs": [
    {
     "data": {
      "image/png": "[encoded data removed]",
      "text/plain": [
       "<Figure size 432x288 with 1 Axes>"
      ]
     },
     "metadata": {},
     "output_type": "display_data"
    }
   ],
   "source": [
    "plt.title('Validation Accuracy')\n",
    "plt.xlabel('Epoch Number')\n",
    "plt.ylabel('accuracy')\n",
    "plt.plot(eval_accs)\n",
    "plt.savefig(\"val_acc.png\")"
   ]
  },
  {
   "cell_type": "code",
   "execution_count": 27,
   "metadata": {
    "pycharm": {
     "is_executing": false
    }
   },
   "outputs": [
    {
     "ename": "NameError",
     "evalue": "name 'test_dataset' is not defined",
     "output_type": "error",
     "traceback": [
      "\u001b[0;31m---------------------------------------------------------------------------\u001b[0m",
      "\u001b[0;31mNameError\u001b[0m                                 Traceback (most recent call last)",
      "\u001b[0;32m<ipython-input-27-fe9e99d89dec>\u001b[0m in \u001b[0;36m<module>\u001b[0;34m()\u001b[0m\n\u001b[0;32m----> 1\u001b[0;31m test_data_loader = torch.utils.data.DataLoader(test_dataset, batch_size=32, \n\u001b[0m\u001b[1;32m      2\u001b[0m                                                shuffle=False, num_workers=8)\n",
      "\u001b[0;31mNameError\u001b[0m: name 'test_dataset' is not defined"
     ]
    }
   ],
   "source": [
    "test_data_loader = torch.utils.data.DataLoader(test_dataset, batch_size=32, \n",
    "                                               shuffle=False, num_workers=8)"
   ]
  },
  {
   "cell_type": "code",
   "execution_count": null,
   "metadata": {},
   "outputs": [],
   "source": [
    "test_loss, test_accuracy = test_classify_loss(model, test_data_loader)"
   ]
  },
  {
   "cell_type": "code",
   "execution_count": null,
   "metadata": {},
   "outputs": [],
   "source": [
    "test_loss, test_accuracy"
   ]
  },
  {
   "cell_type": "code",
   "execution_count": null,
   "metadata": {},
   "outputs": [],
   "source": []
  }
 ],
 "metadata": {
  "colab": {
   "collapsed_sections": [],
   "name": "baseline_cnn (1).ipynb",
   "provenance": []
  },
  "kernelspec": {
   "display_name": "Python 3",
   "language": "python",
   "name": "python3"
  },
  "language_info": {
   "codemirror_mode": {
    "name": "ipython",
    "version": 3
   },
   "file_extension": ".py",
   "mimetype": "text/x-python",
   "name": "python",
   "nbconvert_exporter": "python",
   "pygments_lexer": "ipython3",
   "version": "3.6.8"
  }
 },
 "nbformat": 4,
 "nbformat_minor": 1
}
