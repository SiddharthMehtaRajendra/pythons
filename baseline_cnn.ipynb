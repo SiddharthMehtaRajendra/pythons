{
 "cells": [
  {
   "cell_type": "code",
   "execution_count": 1,
   "metadata": {
    "colab": {},
    "colab_type": "code",
    "id": "99mWUL-r7tLB"
   },
   "outputs": [],
   "source": [
    "import os"
   ]
  },
  {
   "cell_type": "code",
   "execution_count": 2,
   "metadata": {
    "colab": {},
    "colab_type": "code",
    "id": "hdRpCepJz7XV"
   },
   "outputs": [],
   "source": [
    "import torch\n",
    "import torch.nn as nn\n",
    "import torch.nn.functional as F\n",
    "import torch.optim as optim\n",
    "from torch.utils.data import Dataset, DataLoader\n",
    "cuda = torch.cuda.is_available()\n",
    "import numpy as np"
   ]
  },
  {
   "cell_type": "code",
   "execution_count": 3,
   "metadata": {
    "colab": {},
    "colab_type": "code",
    "id": "34BLnzCbzd6w"
   },
   "outputs": [],
   "source": [
    "import torchvision\n",
    "from PIL import Image"
   ]
  },
  {
   "cell_type": "code",
   "execution_count": 4,
   "metadata": {
    "colab": {},
    "colab_type": "code",
    "id": "CXc2tVVQ7Cds"
   },
   "outputs": [],
   "source": [
    "def parse_data(datadir):\n",
    "    img_list = []\n",
    "    ID_list = []\n",
    "    file_list = []\n",
    "    for root, directories, filenames in os.walk(datadir):\n",
    "          \n",
    "          for filename in filenames:\n",
    "              file_list.append(filename)\n",
    "              if filename.endswith('.png'):\n",
    "                  filei = os.path.join(root, filename)\n",
    "                  img_list.append(filei)\n",
    "                  ID_list.append(root.split('/')[-1])\n",
    "\n",
    "    # construct a dictionary, where key and value correspond to ID and target\n",
    "    uniqueID_list = list(set(ID_list))\n",
    "    class_n = len(uniqueID_list)\n",
    "    target_dict = dict(zip(uniqueID_list, range(class_n)))\n",
    "    label_list = [target_dict[ID_key] for ID_key in ID_list]\n",
    "    \n",
    "    \n",
    "\n",
    "    print('{}\\t\\t{}\\n{}\\t\\t{}'.format('#Images', '#Labels', len(img_list), len(set(label_list))))\n",
    "    return img_list, label_list, class_n"
   ]
  },
  {
   "cell_type": "code",
   "execution_count": 5,
   "metadata": {
    "colab": {
     "base_uri": "https://localhost:8080/",
     "height": 1000
    },
    "colab_type": "code",
    "executionInfo": {
     "elapsed": 2602,
     "status": "ok",
     "timestamp": 1572058901817,
     "user": {
      "displayName": "Mohit Grover",
      "photoUrl": "",
      "userId": "17020987855024013058"
     },
     "user_tz": 420
    },
    "id": "GPYh7Um17Wey",
    "outputId": "c9399d33-1f2e-49d4-a696-e7c002299dd5"
   },
   "outputs": [
    {
     "name": "stdout",
     "output_type": "stream",
     "text": [
      "#Images\t\t#Labels\n",
      "1779\t\t13\n"
     ]
    }
   ],
   "source": [
    "img_list, label_list, class_n = parse_data(\"cohn-kanade-trunc\")"
   ]
  },
  {
   "cell_type": "code",
   "execution_count": 6,
   "metadata": {
    "colab": {
     "base_uri": "https://localhost:8080/",
     "height": 1000
    },
    "colab_type": "code",
    "executionInfo": {
     "elapsed": 446,
     "status": "ok",
     "timestamp": 1572058491942,
     "user": {
      "displayName": "Mohit Grover",
      "photoUrl": "",
      "userId": "17020987855024013058"
     },
     "user_tz": 420
    },
    "id": "tTjycRTo9_KN",
    "outputId": "95d0dd64-73dd-47cc-8d4e-993b43bd77d0"
   },
   "outputs": [],
   "source": [
    "class ImageDataset(Dataset):\n",
    "    def __init__(self, file_list, target_list):\n",
    "        self.file_list = file_list\n",
    "        self.target_list = target_list\n",
    "        self.n_class = len(list(set(target_list)))\n",
    "\n",
    "    def __len__(self):\n",
    "        return len(self.file_list)\n",
    "\n",
    "    def __getitem__(self, index):\n",
    "        img = Image.open(self.file_list[index])\n",
    "        img_pil = torchvision.transforms.Resize((224,224))(img)\n",
    "        img = torchvision.transforms.ToTensor()(img_pil)\n",
    "        if img.shape[0] == 3:\n",
    "            img = torchvision.transforms.Grayscale(num_output_channels=1)(img_pil)\n",
    "            img = torchvision.transforms.ToTensor()(img)\n",
    "        label = self.target_list[index]\n",
    "        return img, label"
   ]
  },
  {
   "cell_type": "code",
   "execution_count": 7,
   "metadata": {
    "colab": {},
    "colab_type": "code",
    "id": "8WkNa73xzd63"
   },
   "outputs": [],
   "source": [
    "dataset = ImageDataset(img_list,label_list)"
   ]
  },
  {
   "cell_type": "code",
   "execution_count": 8,
   "metadata": {},
   "outputs": [
    {
     "data": {
      "text/plain": [
       "1779"
      ]
     },
     "execution_count": 8,
     "metadata": {},
     "output_type": "execute_result"
    }
   ],
   "source": [
    "len(dataset)"
   ]
  },
  {
   "cell_type": "code",
   "execution_count": 9,
   "metadata": {
    "colab": {},
    "colab_type": "code",
    "id": "DQWaXqRtzd65"
   },
   "outputs": [],
   "source": [
    "train_dataset, dev_dataset = torch.utils.data.random_split(dataset, (1000,779))"
   ]
  },
  {
   "cell_type": "code",
   "execution_count": 10,
   "metadata": {
    "colab": {},
    "colab_type": "code",
    "id": "w2FJRhYXzd66"
   },
   "outputs": [],
   "source": [
    "# for i in range(len(train_dataset)):\n",
    "#     print(train_dataset[i][0].shape)"
   ]
  },
  {
   "cell_type": "code",
   "execution_count": 11,
   "metadata": {
    "colab": {},
    "colab_type": "code",
    "id": "cCO6k3Yfzd69"
   },
   "outputs": [],
   "source": [
    "train_dataloader = torch.utils.data.DataLoader(train_dataset, batch_size=64, \n",
    "                                               shuffle=True, num_workers=8)"
   ]
  },
  {
   "cell_type": "code",
   "execution_count": 12,
   "metadata": {
    "colab": {},
    "colab_type": "code",
    "id": "Wj46-XYLzd6_"
   },
   "outputs": [],
   "source": [
    "dev_dataloader = torch.utils.data.DataLoader(dev_dataset, batch_size=64, \n",
    "                                               shuffle=True, num_workers=8)"
   ]
  },
  {
   "cell_type": "code",
   "execution_count": 13,
   "metadata": {},
   "outputs": [],
   "source": [
    "class AttentionLayer(nn.Module):\n",
    "    def __init__(self, input1_size, input2_size):\n",
    "        super(AttentionLayer, self).__init__()\n",
    "\n",
    "        self.attention_fclayer = nn.Linear(input2_size, input1_size)\n",
    "        \n",
    "    def forward(self, input1, input2):\n",
    "        \n",
    "        self.input1 = input1\n",
    "        self.input2 = input2\n",
    "        \n",
    "        self.batch, self.outchannel1, self.h1, self.w1 = input1.shape\n",
    "        self.batch, self.outchannel2 = input2.shape\n",
    "        \n",
    "        input2_rescaled = self.attention_fclayer(self.input2)\n",
    "        \n",
    "        input2_bmm = input2_rescaled.view(self.batch,self.outchannel1,1)\n",
    "        \n",
    "        compat_scores = torch.zeros((self.batch, self.h1*self.w1))\n",
    "\n",
    "        for h in range(self.h1):\n",
    "            for w in range(self.w1):\n",
    "                input1_bmm = self.input1[:,:,h,w].view(self.batch,1,self.outchannel1)\n",
    "                compat_scores[:,h*self.w1+w] = torch.bmm(input1_bmm, input2_bmm).squeeze()\n",
    "        \n",
    "        normalized_compat_scores = F.softmax(compat_scores)\n",
    "        \n",
    "        bmm_arg2 = self.input1.view(self.batch,self.outchannel1,self.h1*self.w1,1)\n",
    "        bmm_argtemp = normalized_compat_scores.view(self.batch,1,self.h1*self.w1).repeat(1,self.outchannel1,1)\n",
    "        bmm_arg1 = bmm_argtemp.view(self.batch,self.outchannel1,1,self.h1*self.w1)\n",
    "        \n",
    "        g_mod = torch.zeros((self.batch, self.outchannel1))\n",
    "        \n",
    "        for b in range(self.batch):\n",
    "            g_mod[b,:] = torch.bmm(bmm_arg1[b,:,:,:], bmm_arg2[b,:,:,:]).squeeze()\n",
    "        \n",
    "        return g_mod"
   ]
  },
  {
   "cell_type": "code",
   "execution_count": 14,
   "metadata": {
    "colab": {},
    "colab_type": "code",
    "id": "1Wxrwfckzd7B"
   },
   "outputs": [],
   "source": [
    "class ConvBlock(nn.Module):\n",
    "    def __init__(self, C_in, C_out, kernel_size, stride):\n",
    "        super(ConvBlock, self).__init__()\n",
    "        self.block = nn.Sequential(\n",
    "                          nn.Conv2d(in_channels=C_in, out_channels=C_out, kernel_size=kernel_size, stride=stride),\n",
    "                          nn.ReLU(),\n",
    "                          nn.MaxPool2d(2))\n",
    "        \n",
    "    def forward(self, x):\n",
    "        return self.block(x)\n",
    "    \n",
    "class Flatten(nn.Module):\n",
    "    def forward(self, input):\n",
    "        return input.view(input.size(0), -1)\n",
    "    \n",
    "class BaselineModel(nn.Module):\n",
    "    def __init__(self, num_blocks):\n",
    "        super(BaselineModel, self).__init__()\n",
    "        layers = []\n",
    "        self.num_classes = 13\n",
    "        channels = [1, 64, 128, 256] # this needs to be modified according to num_blocks\n",
    "        \n",
    "        self.convlayer1 = ConvBlock(C_in=channels[0], C_out=channels[1], kernel_size=5, stride=1)\n",
    "        self.convlayer2 = ConvBlock(C_in=channels[1], C_out=channels[2], kernel_size=5, stride=1)\n",
    "        self.convlayer3 = ConvBlock(C_in=channels[2], C_out=channels[3], kernel_size=5, stride=1)\n",
    "        \n",
    "#         for i in range(num_blocks):\n",
    "#             layers.append(ConvBlock(C_in=channels[i], C_out=channels[i+1], kernel_size=5, stride=1))\n",
    "        \n",
    "        self.dropoutlayer1 = nn.Dropout(p=0.25)\n",
    "        \n",
    "#         layers.append(nn.Dropout(p=0.25))\n",
    "        \n",
    "        self.flattenlayer = Flatten()\n",
    "        \n",
    "#         layers.append(Flatten())\n",
    "        \n",
    "        self.fclayer1 = nn.Linear(256*24*24, 512)\n",
    "        \n",
    "#         layers.append(nn.Linear(256*24*24, 512))\n",
    "        \n",
    "        self.dropoutlayer2 = nn.Dropout(p=0.5)\n",
    "        \n",
    "        self.attlayer1 = AttentionLayer(channels[1],512)\n",
    "        self.attlayer2 = AttentionLayer(channels[2],512)\n",
    "        self.attlayer3 = AttentionLayer(channels[3],512)\n",
    "        \n",
    "#         layers.append(nn.Dropout(p=0.5))\n",
    "        \n",
    "#         fclayer2 = nn.Linear(512, num_classes)\n",
    "        \n",
    "#         layers.append(nn.Linear(512, num_classes))\n",
    "        \n",
    "#         self.net = nn.Sequential(*layers)\n",
    "        \n",
    "    def forward(self, x):\n",
    "        self.out1 = self.convlayer1(x)\n",
    "        self.out2 = self.convlayer2(self.out1)\n",
    "        self.out3 = self.convlayer3(self.out2)\n",
    "        self.out4 = self.dropoutlayer1(self.out3)\n",
    "        self.out5 = self.flattenlayer(self.out4)\n",
    "        self.out6 = self.fclayer1(self.out5)\n",
    "        self.out7 = self.dropoutlayer2(self.out6)\n",
    "        \n",
    "        self.attout1 = self.attlayer1(self.out1,self.out7)\n",
    "        self.attout2 = self.attlayer2(self.out2,self.out7)\n",
    "        self.attout3 = self.attlayer3(self.out3,self.out7)\n",
    "        \n",
    "        self.attout = torch.cat((self.attout1,self.attout2,self.attout3),1)\n",
    "        \n",
    "        _, self.att_size = self.attout.shape\n",
    "        \n",
    "        self.fclayer2 = nn.Linear(self.att_size, self.num_classes)\n",
    "        self.final_out = self.fclayer2(self.attout)\n",
    "        \n",
    "        return self.attout"
   ]
  },
  {
   "cell_type": "code",
   "execution_count": 15,
   "metadata": {
    "colab": {
     "base_uri": "https://localhost:8080/",
     "height": 527
    },
    "colab_type": "code",
    "executionInfo": {
     "elapsed": 6150,
     "status": "ok",
     "timestamp": 1572056426800,
     "user": {
      "displayName": "Tejasri Thota",
      "photoUrl": "https://lh3.googleusercontent.com/a-/AAuE7mA-qo0IWRkoBECjG3L_eRQ7NjBOkZxcaesklum9=s64",
      "userId": "10780644812533486358"
     },
     "user_tz": 420
    },
    "id": "re2Kdhiazd7C",
    "outputId": "bfb5ad37-62c5-4bf4-e910-452f67ca8b17"
   },
   "outputs": [
    {
     "name": "stdout",
     "output_type": "stream",
     "text": [
      "BaselineModel(\n",
      "  (convlayer1): ConvBlock(\n",
      "    (block): Sequential(\n",
      "      (0): Conv2d(1, 64, kernel_size=(5, 5), stride=(1, 1))\n",
      "      (1): ReLU()\n",
      "      (2): MaxPool2d(kernel_size=2, stride=2, padding=0, dilation=1, ceil_mode=False)\n",
      "    )\n",
      "  )\n",
      "  (convlayer2): ConvBlock(\n",
      "    (block): Sequential(\n",
      "      (0): Conv2d(64, 128, kernel_size=(5, 5), stride=(1, 1))\n",
      "      (1): ReLU()\n",
      "      (2): MaxPool2d(kernel_size=2, stride=2, padding=0, dilation=1, ceil_mode=False)\n",
      "    )\n",
      "  )\n",
      "  (convlayer3): ConvBlock(\n",
      "    (block): Sequential(\n",
      "      (0): Conv2d(128, 256, kernel_size=(5, 5), stride=(1, 1))\n",
      "      (1): ReLU()\n",
      "      (2): MaxPool2d(kernel_size=2, stride=2, padding=0, dilation=1, ceil_mode=False)\n",
      "    )\n",
      "  )\n",
      "  (dropoutlayer1): Dropout(p=0.25)\n",
      "  (flattenlayer): Flatten()\n",
      "  (fclayer1): Linear(in_features=147456, out_features=512, bias=True)\n",
      "  (dropoutlayer2): Dropout(p=0.5)\n",
      "  (attlayer1): AttentionLayer(\n",
      "    (attention_fclayer): Linear(in_features=512, out_features=64, bias=True)\n",
      "  )\n",
      "  (attlayer2): AttentionLayer(\n",
      "    (attention_fclayer): Linear(in_features=512, out_features=128, bias=True)\n",
      "  )\n",
      "  (attlayer3): AttentionLayer(\n",
      "    (attention_fclayer): Linear(in_features=512, out_features=256, bias=True)\n",
      "  )\n",
      ")\n",
      "tensor([[4.4880e-06, 3.3907e-03, 6.7807e-02, 1.2980e-02, 1.0797e-01, 1.3015e-06,\n",
      "         1.3142e-01, 2.1522e-01, 4.4507e-02, 2.1965e-01, 5.9783e-02, 4.9355e-03,\n",
      "         9.5005e-02, 2.1772e-04, 9.7415e-05, 1.3456e-05, 4.2491e-02, 1.3718e-01,\n",
      "         6.7565e-02, 0.0000e+00, 1.7598e-01, 4.0058e-02, 2.4573e-02, 1.2963e-01,\n",
      "         1.9241e-01, 1.5194e-01, 4.0996e-01, 1.4895e-01, 2.6318e-01, 2.7382e-02,\n",
      "         3.0016e-01, 1.9173e-01, 4.0743e-02, 2.2992e-02, 2.3790e-04, 4.3012e-01,\n",
      "         9.4572e-02, 6.1497e-02, 2.8471e-01, 2.3864e-02, 0.0000e+00, 1.1026e-01,\n",
      "         1.4839e-03, 0.0000e+00, 7.7808e-02, 2.3387e-02, 1.5932e-02, 2.4579e-01,\n",
      "         5.9063e-04, 2.4788e-04, 5.6945e-04, 3.9100e-02, 4.7522e-03, 2.3220e-01,\n",
      "         9.0386e-03, 5.4166e-03, 2.1094e-02, 3.0664e-01, 1.3758e-04, 3.8927e-02,\n",
      "         7.0709e-02, 2.1811e-05, 0.0000e+00, 1.1564e-02, 3.0256e-03, 1.1081e-03,\n",
      "         2.9701e-04, 1.9346e-03, 7.2390e-02, 4.8360e-02, 4.9929e-02, 6.5433e-02,\n",
      "         8.4112e-02, 2.6648e-04, 1.6431e-01, 1.0094e-05, 7.9168e-03, 2.0927e-02,\n",
      "         2.8082e-02, 5.8420e-02, 4.0269e-02, 1.2494e-03, 1.4396e-01, 3.8267e-05,\n",
      "         1.4800e-03, 7.8073e-02, 5.3159e-05, 9.1757e-02, 2.5497e-02, 1.4535e-03,\n",
      "         7.2682e-02, 1.9836e-02, 8.2535e-03, 1.1626e-04, 2.1550e-02, 5.2167e-02,\n",
      "         1.6117e-02, 2.0884e-03, 1.3754e-01, 4.0897e-03, 4.9209e-02, 1.1295e-01,\n",
      "         6.6366e-02, 8.6050e-02, 1.6765e-04, 4.5466e-03, 0.0000e+00, 3.6569e-02,\n",
      "         4.6280e-02, 2.5133e-03, 2.5766e-03, 5.6874e-04, 4.1863e-04, 3.0523e-03,\n",
      "         4.5197e-05, 7.1465e-02, 0.0000e+00, 3.4929e-02, 1.5619e-02, 2.4816e-02,\n",
      "         8.2843e-03, 0.0000e+00, 6.0572e-03, 2.9428e-02, 6.2971e-02, 0.0000e+00,\n",
      "         3.8901e-05, 5.7933e-04, 5.0025e-02, 1.3440e-01, 1.6896e-01, 5.4767e-02,\n",
      "         4.0719e-02, 1.5052e-02, 8.1655e-03, 2.7401e-05, 1.0495e-01, 0.0000e+00,\n",
      "         9.0444e-05, 1.0238e-01, 4.5239e-02, 3.6717e-03, 2.4763e-05, 8.0108e-04,\n",
      "         3.1116e-02, 2.2192e-02, 6.1062e-04, 8.1290e-02, 6.7049e-02, 7.4814e-02,\n",
      "         6.1337e-05, 3.3553e-02, 0.0000e+00, 1.2810e-04, 4.3184e-02, 9.5467e-02,\n",
      "         0.0000e+00, 1.2519e-01, 3.2125e-05, 2.2070e-02, 1.3778e-01, 2.0574e-02,\n",
      "         1.1525e-01, 1.9555e-03, 6.5968e-03, 9.1118e-02, 1.9605e-02, 5.2703e-02,\n",
      "         2.3567e-03, 2.4062e-02, 0.0000e+00, 1.1748e-01, 2.2539e-04, 1.1428e-05,\n",
      "         9.9425e-04, 4.0374e-04, 3.8261e-02, 3.3257e-03, 0.0000e+00, 0.0000e+00,\n",
      "         1.9543e-02, 9.5591e-03, 1.8606e-01, 2.3097e-02, 0.0000e+00, 1.7486e-04,\n",
      "         0.0000e+00, 4.5058e-02, 2.1906e-02, 8.8810e-03, 3.5819e-02, 1.3823e-02,\n",
      "         7.8451e-02, 1.5507e-02, 4.5140e-06, 4.9181e-02, 3.1408e-05, 1.0868e-02,\n",
      "         6.7144e-04, 7.9837e-02, 1.3494e-02, 5.3259e-04, 3.5977e-02, 1.3738e-02,\n",
      "         7.1829e-04, 3.5653e-02, 2.0317e-04, 2.8324e-03, 1.4193e-02, 5.9780e-04,\n",
      "         2.0390e-02, 4.9249e-02, 8.5311e-03, 3.0430e-02, 2.4262e-02, 2.8425e-03,\n",
      "         6.6483e-03, 4.1256e-02, 3.9237e-02, 2.5463e-02, 6.3032e-02, 1.2006e-04,\n",
      "         6.0402e-05, 8.7557e-03, 1.4202e-05, 5.0636e-03, 2.7780e-02, 3.5794e-02,\n",
      "         3.3721e-04, 2.0678e-05, 4.2877e-02, 8.1691e-03, 1.7465e-05, 2.7619e-02,\n",
      "         1.7410e-02, 2.3725e-03, 3.9653e-02, 2.5855e-02, 2.2317e-02, 1.1548e-02,\n",
      "         2.0821e-03, 4.3383e-02, 2.9672e-03, 2.0811e-03, 6.0021e-02, 2.6330e-02,\n",
      "         6.8541e-03, 5.6369e-04, 2.2308e-03, 6.7422e-02, 0.0000e+00, 0.0000e+00,\n",
      "         2.2186e-02, 0.0000e+00, 1.5628e-02, 2.4735e-03, 2.2533e-02, 2.9775e-02,\n",
      "         3.8568e-02, 1.3526e-04, 4.4344e-02, 1.9016e-02, 1.7571e-02, 5.9198e-02,\n",
      "         2.5349e-03, 0.0000e+00, 5.4514e-02, 0.0000e+00, 1.1707e-02, 2.9288e-02,\n",
      "         1.6099e-03, 3.8552e-04, 1.4929e-04, 4.3907e-02, 2.2092e-02, 2.5518e-02,\n",
      "         6.1078e-02, 1.7026e-02, 2.2271e-02, 3.2765e-02, 2.6951e-02, 0.0000e+00,\n",
      "         1.1322e-01, 5.2821e-04, 8.3574e-02, 2.7632e-05, 7.6628e-02, 0.0000e+00,\n",
      "         6.6412e-04, 1.2381e-05, 1.0823e-02, 7.8920e-03, 3.4846e-03, 5.2763e-02,\n",
      "         2.8182e-03, 8.0662e-02, 4.4679e-03, 8.3721e-03, 1.5476e-02, 1.1116e-02,\n",
      "         2.0957e-03, 1.7738e-03, 3.1687e-02, 3.8676e-03, 5.7746e-02, 2.9882e-02,\n",
      "         1.0385e-02, 4.6621e-02, 6.6292e-06, 1.8891e-02, 2.3121e-04, 2.4176e-02,\n",
      "         3.6791e-02, 0.0000e+00, 3.0963e-02, 3.7359e-02, 6.7275e-02, 1.0918e-02,\n",
      "         7.1959e-02, 1.2739e-02, 1.7934e-02, 4.6172e-02, 1.5434e-02, 1.0954e-02,\n",
      "         8.3138e-04, 4.7808e-02, 6.0822e-02, 9.1887e-02, 9.8820e-03, 9.1782e-03,\n",
      "         1.0599e-02, 9.5543e-03, 9.3853e-04, 3.9717e-02, 1.9525e-03, 2.2402e-04,\n",
      "         1.1903e-03, 1.4300e-04, 5.0232e-05, 3.7584e-03, 5.9301e-02, 2.1415e-02,\n",
      "         1.2943e-04, 6.0680e-02, 4.3705e-05, 4.4327e-02, 9.7356e-02, 6.1877e-02,\n",
      "         1.0692e-02, 6.9495e-02, 0.0000e+00, 3.1572e-02, 5.0760e-05, 4.7547e-02,\n",
      "         2.8821e-02, 2.0915e-02, 1.1748e-02, 6.6973e-02, 3.3402e-03, 5.9775e-02,\n",
      "         2.5411e-03, 7.0462e-02, 6.0406e-05, 9.4644e-03, 1.4552e-02, 9.6476e-03,\n",
      "         5.3167e-03, 9.6016e-04, 1.1076e-02, 4.2140e-02, 2.4360e-04, 2.7863e-02,\n",
      "         1.4787e-04, 3.3862e-02, 2.2633e-02, 3.0838e-02, 6.6851e-02, 4.9842e-03,\n",
      "         1.1495e-02, 3.0840e-03, 1.6949e-02, 0.0000e+00, 0.0000e+00, 6.1211e-02,\n",
      "         9.8661e-02, 1.0354e-02, 3.0564e-03, 1.0095e-02, 2.4684e-04, 0.0000e+00,\n",
      "         4.8700e-02, 7.2521e-03, 1.3224e-02, 0.0000e+00, 1.1395e-02, 2.0638e-02,\n",
      "         1.2706e-02, 1.3844e-03, 4.9191e-05, 2.7396e-03, 6.1132e-02, 6.2881e-02,\n",
      "         5.8215e-03, 9.8733e-03, 7.5166e-02, 1.2597e-02, 4.3568e-03, 1.9828e-02,\n",
      "         3.4741e-05, 2.1631e-02, 1.9615e-02, 4.0564e-02, 8.0241e-03, 5.5563e-03,\n",
      "         3.2293e-04, 0.0000e+00, 5.8811e-03, 1.4970e-02, 2.0422e-04, 1.6893e-03,\n",
      "         0.0000e+00, 1.1920e-05, 0.0000e+00, 3.2036e-03, 2.2722e-04, 3.2047e-03,\n",
      "         2.1973e-03, 3.8395e-02, 1.2291e-02, 5.9065e-02, 2.0335e-02, 1.5552e-02,\n",
      "         1.8535e-02, 2.5824e-02, 3.8683e-02, 2.1011e-03, 8.3516e-02, 0.0000e+00,\n",
      "         1.8729e-02, 3.8226e-03, 2.7241e-02, 2.6864e-02, 6.1661e-03, 6.8351e-02,\n",
      "         0.0000e+00, 2.2280e-03, 6.6732e-04, 3.6333e-03]],\n",
      "       grad_fn=<CatBackward>)\n"
     ]
    },
    {
     "name": "stderr",
     "output_type": "stream",
     "text": [
      "/anaconda3/lib/python3.6/site-packages/ipykernel_launcher.py:26: UserWarning: Implicit dimension choice for softmax has been deprecated. Change the call to include dim=X as an argument.\n"
     ]
    }
   ],
   "source": [
    "model = BaselineModel(num_blocks=3)\n",
    "criterion = nn.CrossEntropyLoss()\n",
    "optimizer = optim.Adam(model.parameters(), lr=1e-3, weight_decay=1e-5)\n",
    "device = torch.device(\"cuda\" if cuda else \"cpu\")\n",
    "print(model)\n",
    "print(model(dataset[0][0].unsqueeze(dim=0)))"
   ]
  },
  {
   "cell_type": "code",
   "execution_count": 27,
   "metadata": {
    "colab": {},
    "colab_type": "code",
    "id": "kRLEOoHdzd7E"
   },
   "outputs": [],
   "source": [
    "def train(model,n_epochs,train_dataloader, test_loader):\n",
    "    model.train()\n",
    "    model.to(device)\n",
    "    train_losses = []\n",
    "    eval_losses = []\n",
    "    eval_accs = []\n",
    "    for epoch in range(n_epochs):\n",
    "        avg_loss = 0.0\n",
    "        for batch_num, (feats, labels) in enumerate(train_dataloader):\n",
    "            feats, labels = feats.to(device), labels.to(device)\n",
    "            optimizer.zero_grad()\n",
    "            outputs = model(feats)\n",
    "            loss = criterion(outputs, labels.long())\n",
    "            loss.backward()\n",
    "            \n",
    "            optimizer.step()\n",
    "            \n",
    "            avg_loss += loss.item()\n",
    "            if batch_num % 50 == 49:\n",
    "                print('Epoch: {}\\tBatch: {}\\tAvg-Loss: {:.4f}'.format(epoch+1, batch_num+1, avg_loss/50))\n",
    "                logging.debug('Epoch: {}\\tBatch: {}\\tAvg-Loss: {:.4f}'.format(epoch+1, batch_num+1, avg_loss/50))\n",
    "                avg_loss = 0.0    \n",
    "        \n",
    "            torch.cuda.empty_cache()\n",
    "            del feats\n",
    "            del labels\n",
    "            del loss\n",
    "        train_losses.append(avg_loss)\n",
    "        test_loss, test_accuracy = test_classify_loss(model,test_loader)\n",
    "        eval_losses.append(test_loss)\n",
    "        eval_accs.append(test_accuracy)\n",
    "        print('Epoch: {}\\tTrain Loss: {}\\tTest-Loss: {}\\tTest-acc: {:.4f}'.format(epoch+1, avg_loss, test_loss, test_accuracy))\n",
    "    return train_losses, eval_losses, eval_accs\n",
    "\n",
    "def test_classify_loss(model, test_loader):\n",
    "    with torch.no_grad():\n",
    "        model.eval()\n",
    "        test_loss = []\n",
    "        accuracy = 0\n",
    "        total = 0\n",
    "        for batch_num, (feats, labels) in enumerate(test_loader):\n",
    "            feats, labels = feats.to(device), labels.to(device)\n",
    "            outputs = model(feats)\n",
    "            _, pred_labels = torch.max(F.softmax(outputs, dim=1), 1)\n",
    "            pred_labels = pred_labels.view(-1)\n",
    "            loss = criterion(outputs, labels.long())\n",
    "            accuracy += torch.sum(torch.eq(pred_labels, labels)).item()\n",
    "            total += len(labels)\n",
    "            test_loss.extend([loss.item()]*feats.size()[0])\n",
    "            torch.cuda.empty_cache()\n",
    "            del feats\n",
    "            del labels\n",
    "    model.train()\n",
    "    return np.mean(test_loss), accuracy/total"
   ]
  },
  {
   "cell_type": "code",
   "execution_count": null,
   "metadata": {
    "colab": {
     "base_uri": "https://localhost:8080/",
     "height": 429
    },
    "colab_type": "code",
    "executionInfo": {
     "elapsed": 30341,
     "status": "error",
     "timestamp": 1572056451006,
     "user": {
      "displayName": "Tejasri Thota",
      "photoUrl": "https://lh3.googleusercontent.com/a-/AAuE7mA-qo0IWRkoBECjG3L_eRQ7NjBOkZxcaesklum9=s64",
      "userId": "10780644812533486358"
     },
     "user_tz": 420
    },
    "id": "ACkvD4NVzd7G",
    "outputId": "9e3fc8f9-69ae-45f6-de28-8bdbbeb73637"
   },
   "outputs": [
    {
     "name": "stderr",
     "output_type": "stream",
     "text": [
      "/anaconda3/lib/python3.6/site-packages/ipykernel_launcher.py:26: UserWarning: Implicit dimension choice for softmax has been deprecated. Change the call to include dim=X as an argument.\n"
     ]
    }
   ],
   "source": [
    "train_losses, eval_losses, eval_accs = train(model,200, train_dataloader,dev_dataloader)"
   ]
  },
  {
   "cell_type": "code",
   "execution_count": 20,
   "metadata": {},
   "outputs": [],
   "source": [
    "import matplotlib.pyplot as plt"
   ]
  },
  {
   "cell_type": "code",
   "execution_count": 21,
   "metadata": {
    "colab": {},
    "colab_type": "code",
    "id": "d6AXVsznzd7J"
   },
   "outputs": [
    {
     "data": {
      "image/png": "[encoded data removed]",
      "text/plain": [
       "<Figure size 432x288 with 1 Axes>"
      ]
     },
     "metadata": {
      "needs_background": "light"
     },
     "output_type": "display_data"
    }
   ],
   "source": [
    "plt.title('Training Loss')\n",
    "plt.xlabel('Epoch Number')\n",
    "plt.ylabel('Loss')\n",
    "plt.plot(train_losses)\n",
    "plt.savefig(\"training_loss.png\")"
   ]
  },
  {
   "cell_type": "code",
   "execution_count": 22,
   "metadata": {},
   "outputs": [
    {
     "data": {
      "image/png": "[encoded data removed]",
      "text/plain": [
       "<Figure size 432x288 with 1 Axes>"
      ]
     },
     "metadata": {
      "needs_background": "light"
     },
     "output_type": "display_data"
    }
   ],
   "source": [
    "plt.title('Validation Accuracy')\n",
    "plt.xlabel('Epoch Number')\n",
    "plt.ylabel('accuracy')\n",
    "plt.plot(eval_accs)\n",
    "plt.savefig(\"val_acc.png\")"
   ]
  },
  {
   "cell_type": "code",
   "execution_count": 51,
   "metadata": {},
   "outputs": [
    {
     "name": "stdout",
     "output_type": "stream",
     "text": [
      "tensor([[[[0.],\n",
      "          [0.],\n",
      "          [0.],\n",
      "          [0.],\n",
      "          [0.],\n",
      "          [0.],\n",
      "          [0.],\n",
      "          [0.],\n",
      "          [0.],\n",
      "          [0.],\n",
      "          [0.],\n",
      "          [0.]],\n",
      "\n",
      "         [[0.],\n",
      "          [0.],\n",
      "          [0.],\n",
      "          [0.],\n",
      "          [0.],\n",
      "          [0.],\n",
      "          [0.],\n",
      "          [0.],\n",
      "          [0.],\n",
      "          [0.],\n",
      "          [0.],\n",
      "          [0.]]]])\n"
     ]
    }
   ],
   "source": [
    "x = torch.zeros(1,2,3,4)\n",
    "print(x.view(1,2,12,1))"
   ]
  },
  {
   "cell_type": "code",
   "execution_count": null,
   "metadata": {},
   "outputs": [],
   "source": []
  }
 ],
 "metadata": {
  "colab": {
   "collapsed_sections": [],
   "name": "baseline_cnn (1).ipynb",
   "provenance": []
  },
  "kernelspec": {
   "display_name": "Python 3",
   "language": "python",
   "name": "python3"
  },
  "language_info": {
   "codemirror_mode": {
    "name": "ipython",
    "version": 3
   },
   "file_extension": ".py",
   "mimetype": "text/x-python",
   "name": "python",
   "nbconvert_exporter": "python",
   "pygments_lexer": "ipython3",
   "version": "3.6.5"
  }
 },
 "nbformat": 4,
 "nbformat_minor": 1
}
