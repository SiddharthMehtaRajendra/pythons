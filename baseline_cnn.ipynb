{
 "cells": [
  {
   "cell_type": "code",
   "execution_count": 1,
   "metadata": {
    "colab": {},
    "colab_type": "code",
    "id": "99mWUL-r7tLB"
   },
   "outputs": [],
   "source": [
    "import os"
   ]
  },
  {
   "cell_type": "code",
   "execution_count": 2,
   "metadata": {
    "colab": {},
    "colab_type": "code",
    "id": "hdRpCepJz7XV"
   },
   "outputs": [],
   "source": [
    "import torch\n",
    "import torch.nn as nn\n",
    "import torch.nn.functional as F\n",
    "import torch.optim as optim\n",
    "from torch.utils.data import Dataset, DataLoader\n",
    "cuda = torch.cuda.is_available()\n",
    "import numpy as np"
   ]
  },
  {
   "cell_type": "code",
   "execution_count": 3,
   "metadata": {
    "colab": {},
    "colab_type": "code",
    "id": "34BLnzCbzd6w"
   },
   "outputs": [],
   "source": [
    "import torchvision\n",
    "from PIL import Image"
   ]
  },
  {
   "cell_type": "code",
   "execution_count": 17,
   "metadata": {
    "colab": {},
    "colab_type": "code",
    "id": "CXc2tVVQ7Cds"
   },
   "outputs": [],
   "source": [
    "def parse_data(datadir):\n",
    "    img_list = []\n",
    "    ID_list = []\n",
    "    file_list = []\n",
    "    for root, directories, filenames in os.walk(datadir):\n",
    "          \n",
    "          for filename in filenames:\n",
    "              file_list.append(filename)\n",
    "              if filename.endswith('.png'):\n",
    "                  filei = os.path.join(root, filename)\n",
    "                  img_list.append(filei)\n",
    "                  ID_list.append(root.split('/')[-1])\n",
    "\n",
    "    # construct a dictionary, where key and value correspond to ID and target\n",
    "    uniqueID_list = list(set(ID_list))\n",
    "    class_n = len(uniqueID_list)\n",
    "    target_dict = dict(zip(uniqueID_list, range(class_n)))\n",
    "    label_list = [target_dict[ID_key] for ID_key in ID_list]\n",
    "    \n",
    "    \n",
    "\n",
    "    print('{}\\t\\t{}\\n{}\\t\\t{}'.format('#Images', '#Labels', len(img_list), len(set(label_list))))\n",
    "    return img_list, label_list, class_n"
   ]
  },
  {
   "cell_type": "code",
   "execution_count": 18,
   "metadata": {
    "colab": {
     "base_uri": "https://localhost:8080/",
     "height": 1000
    },
    "colab_type": "code",
    "executionInfo": {
     "elapsed": 2602,
     "status": "ok",
     "timestamp": 1572058901817,
     "user": {
      "displayName": "Mohit Grover",
      "photoUrl": "",
      "userId": "17020987855024013058"
     },
     "user_tz": 420
    },
    "id": "GPYh7Um17Wey",
    "outputId": "c9399d33-1f2e-49d4-a696-e7c002299dd5"
   },
   "outputs": [
    {
     "name": "stdout",
     "output_type": "stream",
     "text": [
      "#Images\t\t#Labels\n",
      "0\t\t0\n"
     ]
    }
   ],
   "source": [
    "img_list, label_list, class_n = parse_data(\"cohn-kanade-trunc\")"
   ]
  },
  {
   "cell_type": "code",
   "execution_count": 19,
   "metadata": {
    "colab": {
     "base_uri": "https://localhost:8080/",
     "height": 1000
    },
    "colab_type": "code",
    "executionInfo": {
     "elapsed": 446,
     "status": "ok",
     "timestamp": 1572058491942,
     "user": {
      "displayName": "Mohit Grover",
      "photoUrl": "",
      "userId": "17020987855024013058"
     },
     "user_tz": 420
    },
    "id": "tTjycRTo9_KN",
    "outputId": "95d0dd64-73dd-47cc-8d4e-993b43bd77d0"
   },
   "outputs": [],
   "source": [
    "class ImageDataset(Dataset):\n",
    "    def __init__(self, file_list, target_list):\n",
    "        self.file_list = file_list\n",
    "        self.target_list = target_list\n",
    "        self.n_class = len(list(set(target_list)))\n",
    "\n",
    "    def __len__(self):\n",
    "        return len(self.file_list)\n",
    "\n",
    "    def __getitem__(self, index):\n",
    "        img = Image.open(self.file_list[index])\n",
    "        img_pil = torchvision.transforms.Resize((224,224))(img)\n",
    "        img = torchvision.transforms.ToTensor()(img_pil)\n",
    "        if img.shape[0] == 3:\n",
    "            img = torchvision.transforms.Grayscale(num_output_channels=1)(img_pil)\n",
    "            img = torchvision.transforms.ToTensor()(img)\n",
    "        label = self.target_list[index]\n",
    "        return img, label"
   ]
  },
  {
   "cell_type": "code",
   "execution_count": 20,
   "metadata": {
    "colab": {},
    "colab_type": "code",
    "id": "8WkNa73xzd63"
   },
   "outputs": [],
   "source": [
    "\n",
    "dataset = ImageDataset(img_list,label_list)"
   ]
  },
  {
   "cell_type": "code",
   "execution_count": 21,
   "metadata": {},
   "outputs": [
    {
     "data": {
      "text/plain": [
       "0"
      ]
     },
     "execution_count": 21,
     "metadata": {},
     "output_type": "execute_result"
    }
   ],
   "source": [
    "len(dataset)"
   ]
  },
  {
   "cell_type": "code",
   "execution_count": 22,
   "metadata": {},
   "outputs": [
    {
     "ename": "IndexError",
     "evalue": "list index out of range",
     "output_type": "error",
     "traceback": [
      "\u001b[0;31m---------------------------------------------------------------------------\u001b[0m",
      "\u001b[0;31mIndexError\u001b[0m                                Traceback (most recent call last)",
      "\u001b[0;32m<ipython-input-22-6abc1d274109>\u001b[0m in \u001b[0;36m<module>\u001b[0;34m()\u001b[0m\n\u001b[1;32m      1\u001b[0m \u001b[0;32mfor\u001b[0m \u001b[0mi\u001b[0m \u001b[0;32min\u001b[0m \u001b[0mrange\u001b[0m\u001b[0;34m(\u001b[0m\u001b[0;36m1779\u001b[0m\u001b[0;34m)\u001b[0m\u001b[0;34m:\u001b[0m\u001b[0;34m\u001b[0m\u001b[0m\n\u001b[0;32m----> 2\u001b[0;31m     \u001b[0mprint\u001b[0m\u001b[0;34m(\u001b[0m\u001b[0mdataset\u001b[0m\u001b[0;34m[\u001b[0m\u001b[0mi\u001b[0m\u001b[0;34m]\u001b[0m\u001b[0;34m[\u001b[0m\u001b[0;36m0\u001b[0m\u001b[0;34m]\u001b[0m\u001b[0;34m.\u001b[0m\u001b[0mshape\u001b[0m\u001b[0;34m)\u001b[0m\u001b[0;34m\u001b[0m\u001b[0m\n\u001b[0m",
      "\u001b[0;32m<ipython-input-19-eb548440322e>\u001b[0m in \u001b[0;36m__getitem__\u001b[0;34m(self, index)\u001b[0m\n\u001b[1;32m      9\u001b[0m \u001b[0;34m\u001b[0m\u001b[0m\n\u001b[1;32m     10\u001b[0m     \u001b[0;32mdef\u001b[0m \u001b[0m__getitem__\u001b[0m\u001b[0;34m(\u001b[0m\u001b[0mself\u001b[0m\u001b[0;34m,\u001b[0m \u001b[0mindex\u001b[0m\u001b[0;34m)\u001b[0m\u001b[0;34m:\u001b[0m\u001b[0;34m\u001b[0m\u001b[0m\n\u001b[0;32m---> 11\u001b[0;31m         \u001b[0mimg\u001b[0m \u001b[0;34m=\u001b[0m \u001b[0mImage\u001b[0m\u001b[0;34m.\u001b[0m\u001b[0mopen\u001b[0m\u001b[0;34m(\u001b[0m\u001b[0mself\u001b[0m\u001b[0;34m.\u001b[0m\u001b[0mfile_list\u001b[0m\u001b[0;34m[\u001b[0m\u001b[0mindex\u001b[0m\u001b[0;34m]\u001b[0m\u001b[0;34m)\u001b[0m\u001b[0;34m\u001b[0m\u001b[0m\n\u001b[0m\u001b[1;32m     12\u001b[0m         \u001b[0mimg_pil\u001b[0m \u001b[0;34m=\u001b[0m \u001b[0mtorchvision\u001b[0m\u001b[0;34m.\u001b[0m\u001b[0mtransforms\u001b[0m\u001b[0;34m.\u001b[0m\u001b[0mResize\u001b[0m\u001b[0;34m(\u001b[0m\u001b[0;34m(\u001b[0m\u001b[0;36m224\u001b[0m\u001b[0;34m,\u001b[0m\u001b[0;36m224\u001b[0m\u001b[0;34m)\u001b[0m\u001b[0;34m)\u001b[0m\u001b[0;34m(\u001b[0m\u001b[0mimg\u001b[0m\u001b[0;34m)\u001b[0m\u001b[0;34m\u001b[0m\u001b[0m\n\u001b[1;32m     13\u001b[0m         \u001b[0mimg\u001b[0m \u001b[0;34m=\u001b[0m \u001b[0mtorchvision\u001b[0m\u001b[0;34m.\u001b[0m\u001b[0mtransforms\u001b[0m\u001b[0;34m.\u001b[0m\u001b[0mToTensor\u001b[0m\u001b[0;34m(\u001b[0m\u001b[0;34m)\u001b[0m\u001b[0;34m(\u001b[0m\u001b[0mimg_pil\u001b[0m\u001b[0;34m)\u001b[0m\u001b[0;34m\u001b[0m\u001b[0m\n",
      "\u001b[0;31mIndexError\u001b[0m: list index out of range"
     ]
    }
   ],
   "source": [
    "for i in range(1779):\n",
    "    print(dataset[i][0].shape)"
   ]
  },
  {
   "cell_type": "code",
   "execution_count": 23,
   "metadata": {
    "colab": {},
    "colab_type": "code",
    "id": "DQWaXqRtzd65"
   },
   "outputs": [
    {
     "ename": "ValueError",
     "evalue": "Sum of input lengths does not equal the length of the input dataset!",
     "output_type": "error",
     "traceback": [
      "\u001b[0;31m---------------------------------------------------------------------------\u001b[0m",
      "\u001b[0;31mValueError\u001b[0m                                Traceback (most recent call last)",
      "\u001b[0;32m<ipython-input-23-f12b6e9b438c>\u001b[0m in \u001b[0;36m<module>\u001b[0;34m()\u001b[0m\n\u001b[0;32m----> 1\u001b[0;31m \u001b[0mtrain_dataset\u001b[0m\u001b[0;34m,\u001b[0m \u001b[0mdev_dataset\u001b[0m \u001b[0;34m=\u001b[0m \u001b[0mtorch\u001b[0m\u001b[0;34m.\u001b[0m\u001b[0mutils\u001b[0m\u001b[0;34m.\u001b[0m\u001b[0mdata\u001b[0m\u001b[0;34m.\u001b[0m\u001b[0mrandom_split\u001b[0m\u001b[0;34m(\u001b[0m\u001b[0mdataset\u001b[0m\u001b[0;34m,\u001b[0m \u001b[0;34m(\u001b[0m\u001b[0;36m1000\u001b[0m\u001b[0;34m,\u001b[0m\u001b[0;36m779\u001b[0m\u001b[0;34m)\u001b[0m\u001b[0;34m)\u001b[0m\u001b[0;34m\u001b[0m\u001b[0m\n\u001b[0m",
      "\u001b[0;32m/anaconda3/lib/python3.6/site-packages/torch/utils/data/dataset.py\u001b[0m in \u001b[0;36mrandom_split\u001b[0;34m(dataset, lengths)\u001b[0m\n\u001b[1;32m    116\u001b[0m     \"\"\"\n\u001b[1;32m    117\u001b[0m     \u001b[0;32mif\u001b[0m \u001b[0msum\u001b[0m\u001b[0;34m(\u001b[0m\u001b[0mlengths\u001b[0m\u001b[0;34m)\u001b[0m \u001b[0;34m!=\u001b[0m \u001b[0mlen\u001b[0m\u001b[0;34m(\u001b[0m\u001b[0mdataset\u001b[0m\u001b[0;34m)\u001b[0m\u001b[0;34m:\u001b[0m\u001b[0;34m\u001b[0m\u001b[0m\n\u001b[0;32m--> 118\u001b[0;31m         \u001b[0;32mraise\u001b[0m \u001b[0mValueError\u001b[0m\u001b[0;34m(\u001b[0m\u001b[0;34m\"Sum of input lengths does not equal the length of the input dataset!\"\u001b[0m\u001b[0;34m)\u001b[0m\u001b[0;34m\u001b[0m\u001b[0m\n\u001b[0m\u001b[1;32m    119\u001b[0m \u001b[0;34m\u001b[0m\u001b[0m\n\u001b[1;32m    120\u001b[0m     \u001b[0mindices\u001b[0m \u001b[0;34m=\u001b[0m \u001b[0mrandperm\u001b[0m\u001b[0;34m(\u001b[0m\u001b[0msum\u001b[0m\u001b[0;34m(\u001b[0m\u001b[0mlengths\u001b[0m\u001b[0;34m)\u001b[0m\u001b[0;34m)\u001b[0m\u001b[0;34m\u001b[0m\u001b[0m\n",
      "\u001b[0;31mValueError\u001b[0m: Sum of input lengths does not equal the length of the input dataset!"
     ]
    }
   ],
   "source": [
    "train_dataset, dev_dataset = torch.utils.data.random_split(dataset, (1000,779))"
   ]
  },
  {
   "cell_type": "code",
   "execution_count": 11,
   "metadata": {
    "colab": {},
    "colab_type": "code",
    "id": "w2FJRhYXzd66"
   },
   "outputs": [],
   "source": [
    "# for i in range(len(train_dataset)):\n",
    "#     print(train_dataset[i][0].shape)"
   ]
  },
  {
   "cell_type": "code",
   "execution_count": 12,
   "metadata": {
    "colab": {},
    "colab_type": "code",
    "id": "cCO6k3Yfzd69"
   },
   "outputs": [],
   "source": [
    "train_dataloader = torch.utils.data.DataLoader(train_dataset, batch_size=64, \n",
    "                                               shuffle=True, num_workers=8)"
   ]
  },
  {
   "cell_type": "code",
   "execution_count": 13,
   "metadata": {
    "colab": {},
    "colab_type": "code",
    "id": "Wj46-XYLzd6_"
   },
   "outputs": [],
   "source": [
    "dev_dataloader = torch.utils.data.DataLoader(dev_dataset, batch_size=64, \n",
    "                                               shuffle=True, num_workers=8)"
   ]
  },
  {
   "cell_type": "code",
   "execution_count": 4,
   "metadata": {},
   "outputs": [],
   "source": [
    "class AttentionLayer(nn.Module):\n",
    "    def __init__(self, input1, input2):\n",
    "        super(AttentionLayer, self).__init__()\n",
    "        \n",
    "        self.input1 = input1\n",
    "        self.input2 = input2\n",
    "        \n",
    "        self.batch, self.outchannel1, self.h1, self.w1 = input1.shape\n",
    "        self.batch, self.outchannel2 = input2.shape\n",
    "\n",
    "        self.attention_fclayer = nn.Linear(self.outchannel2, self.outchannel1)\n",
    "        \n",
    "    def forward(self):\n",
    "        \n",
    "        input2_rescaled = self.attention_fclayer(self.input2)\n",
    "        compat_scores = torch.zeros((self.batch, self.h1*self.w1))\n",
    "\n",
    "        for h in range(self.h1):\n",
    "            for w in range(self.w1):\n",
    "                compat_scores[h*self.w1+w] = torch.bmm(self.input1[:,:,h,w].view(self.batch,1,self.outchannel1), input2_rescaled.view(self.batch,self.outchannel1,1))\n",
    "        \n",
    "        normalized_compat_scores = F.softmax(compat_scores)\n",
    "        \n",
    "        g_mod = torch.bmm(normalized_compat_scores.view(self.batch,1,self.h1*self.w1).repeat(1,self.outchannels1,1).view(self.batch,self.outchannels1,1,self.h1*self.w1),\n",
    "                          self.input1.view(self.batch,self.outchannels1,self.h1*self.w1,1))\n",
    "        \n",
    "        return g_mod"
   ]
  },
  {
   "cell_type": "code",
   "execution_count": 5,
   "metadata": {
    "colab": {},
    "colab_type": "code",
    "id": "1Wxrwfckzd7B"
   },
   "outputs": [],
   "source": [
    "class ConvBlock(nn.Module):\n",
    "    def __init__(self, C_in, C_out, kernel_size, stride):\n",
    "        super(ConvBlock, self).__init__()\n",
    "        self.block = nn.Sequential(\n",
    "                          nn.Conv2d(in_channels=C_in, out_channels=C_out, kernel_size=kernel_size, stride=stride),\n",
    "                          nn.ReLU(),\n",
    "                          nn.MaxPool2d(2))\n",
    "        \n",
    "    def forward(self, x):\n",
    "        return self.block(x)\n",
    "    \n",
    "class Flatten(nn.Module):\n",
    "    def forward(self, input):\n",
    "        return input.view(input.size(0), -1)\n",
    "    \n",
    "class BaselineModel(nn.Module):\n",
    "    def __init__(self, num_blocks):\n",
    "        super(BaselineModel, self).__init__()\n",
    "        layers = []\n",
    "        self.num_classes = 13\n",
    "        channels = [1, 64, 128, 256] # this needs to be modified according to num_blocks\n",
    "        \n",
    "        convlayer1 = ConvBlock(C_in=channels[0], C_out=channels[1], kernel_size=5, stride=1)\n",
    "        convlayer2 = ConvBlock(C_in=channels[1], C_out=channels[2], kernel_size=5, stride=1)\n",
    "        convlayer3 = ConvBlock(C_in=channels[2], C_out=channels[3], kernel_size=5, stride=1)\n",
    "        \n",
    "#         for i in range(num_blocks):\n",
    "#             layers.append(ConvBlock(C_in=channels[i], C_out=channels[i+1], kernel_size=5, stride=1))\n",
    "        \n",
    "        dropoutlayer1 = nn.Dropout(p=0.25)\n",
    "        \n",
    "#         layers.append(nn.Dropout(p=0.25))\n",
    "        \n",
    "        flattenlayer = Flatten()\n",
    "        \n",
    "#         layers.append(Flatten())\n",
    "        \n",
    "        fclayer1 = nn.Linear(256*24*24, 512)\n",
    "        \n",
    "#         layers.append(nn.Linear(256*24*24, 512))\n",
    "        \n",
    "        dropoutlayer2 = nn.Dropout(p=0.5)\n",
    "        \n",
    "#         layers.append(nn.Dropout(p=0.5))\n",
    "        \n",
    "#         fclayer2 = nn.Linear(512, num_classes)\n",
    "        \n",
    "#         layers.append(nn.Linear(512, num_classes))\n",
    "        \n",
    "#         self.net = nn.Sequential(*layers)\n",
    "        \n",
    "    def forward(self, x):\n",
    "        out1 = convlayer1(x)\n",
    "        out2 = convlayer2(out1)\n",
    "        out3 = convlayer3(out2)\n",
    "        out4 = dropoutlayer1(out3)\n",
    "        out5 = flattenlayer(out4)\n",
    "        out6 = fclayer1(out5)\n",
    "        out7 = dropoutlayer2(out6)\n",
    "        \n",
    "        attlayer1 = AttentionLayer(out1,out7)\n",
    "        attlayer2 = AttentionLayer(out2,out7)\n",
    "        attlayer3 = AttentionLayer(out3,out7)\n",
    "        \n",
    "        attout1 = attlayer1.forward()\n",
    "        attout2 = attlayer2.forward()\n",
    "        attout3 = attlayer3.forward()\n",
    "        \n",
    "        attout = torch.cat((attout1,attout2,attout3),1)\n",
    "        \n",
    "        _, att_size = attout.shape\n",
    "        \n",
    "        fclayer2 = nn.Linear(att_size, self.num_classes)\n",
    "        final_out = fclayer2(attout)\n",
    "        \n",
    "        return attout\n",
    "        \n",
    "#         return self.net(x)"
   ]
  },
  {
   "cell_type": "code",
   "execution_count": 6,
   "metadata": {
    "colab": {
     "base_uri": "https://localhost:8080/",
     "height": 527
    },
    "colab_type": "code",
    "executionInfo": {
     "elapsed": 6150,
     "status": "ok",
     "timestamp": 1572056426800,
     "user": {
      "displayName": "Tejasri Thota",
      "photoUrl": "https://lh3.googleusercontent.com/a-/AAuE7mA-qo0IWRkoBECjG3L_eRQ7NjBOkZxcaesklum9=s64",
      "userId": "10780644812533486358"
     },
     "user_tz": 420
    },
    "id": "re2Kdhiazd7C",
    "outputId": "bfb5ad37-62c5-4bf4-e910-452f67ca8b17"
   },
   "outputs": [
    {
     "ename": "ValueError",
     "evalue": "optimizer got an empty parameter list",
     "output_type": "error",
     "traceback": [
      "\u001b[0;31m---------------------------------------------------------------------------\u001b[0m",
      "\u001b[0;31mValueError\u001b[0m                                Traceback (most recent call last)",
      "\u001b[0;32m<ipython-input-6-d77d901ab220>\u001b[0m in \u001b[0;36m<module>\u001b[0;34m()\u001b[0m\n\u001b[1;32m      1\u001b[0m \u001b[0mmodel\u001b[0m \u001b[0;34m=\u001b[0m \u001b[0mBaselineModel\u001b[0m\u001b[0;34m(\u001b[0m\u001b[0mnum_blocks\u001b[0m\u001b[0;34m=\u001b[0m\u001b[0;36m3\u001b[0m\u001b[0;34m)\u001b[0m\u001b[0;34m\u001b[0m\u001b[0m\n\u001b[1;32m      2\u001b[0m \u001b[0mcriterion\u001b[0m \u001b[0;34m=\u001b[0m \u001b[0mnn\u001b[0m\u001b[0;34m.\u001b[0m\u001b[0mCrossEntropyLoss\u001b[0m\u001b[0;34m(\u001b[0m\u001b[0;34m)\u001b[0m\u001b[0;34m\u001b[0m\u001b[0m\n\u001b[0;32m----> 3\u001b[0;31m \u001b[0moptimizer\u001b[0m \u001b[0;34m=\u001b[0m \u001b[0moptim\u001b[0m\u001b[0;34m.\u001b[0m\u001b[0mAdam\u001b[0m\u001b[0;34m(\u001b[0m\u001b[0mmodel\u001b[0m\u001b[0;34m.\u001b[0m\u001b[0mparameters\u001b[0m\u001b[0;34m(\u001b[0m\u001b[0;34m)\u001b[0m\u001b[0;34m,\u001b[0m \u001b[0mlr\u001b[0m\u001b[0;34m=\u001b[0m\u001b[0;36m1e-3\u001b[0m\u001b[0;34m,\u001b[0m \u001b[0mweight_decay\u001b[0m\u001b[0;34m=\u001b[0m\u001b[0;36m1e-5\u001b[0m\u001b[0;34m)\u001b[0m\u001b[0;34m\u001b[0m\u001b[0m\n\u001b[0m\u001b[1;32m      4\u001b[0m \u001b[0mdevice\u001b[0m \u001b[0;34m=\u001b[0m \u001b[0mtorch\u001b[0m\u001b[0;34m.\u001b[0m\u001b[0mdevice\u001b[0m\u001b[0;34m(\u001b[0m\u001b[0;34m\"cuda\"\u001b[0m \u001b[0;32mif\u001b[0m \u001b[0mcuda\u001b[0m \u001b[0;32melse\u001b[0m \u001b[0;34m\"cpu\"\u001b[0m\u001b[0;34m)\u001b[0m\u001b[0;34m\u001b[0m\u001b[0m\n\u001b[1;32m      5\u001b[0m \u001b[0mprint\u001b[0m\u001b[0;34m(\u001b[0m\u001b[0mmodel\u001b[0m\u001b[0;34m)\u001b[0m\u001b[0;34m\u001b[0m\u001b[0m\n",
      "\u001b[0;32m/anaconda3/lib/python3.6/site-packages/torch/optim/adam.py\u001b[0m in \u001b[0;36m__init__\u001b[0;34m(self, params, lr, betas, eps, weight_decay, amsgrad)\u001b[0m\n\u001b[1;32m     40\u001b[0m         defaults = dict(lr=lr, betas=betas, eps=eps,\n\u001b[1;32m     41\u001b[0m                         weight_decay=weight_decay, amsgrad=amsgrad)\n\u001b[0;32m---> 42\u001b[0;31m         \u001b[0msuper\u001b[0m\u001b[0;34m(\u001b[0m\u001b[0mAdam\u001b[0m\u001b[0;34m,\u001b[0m \u001b[0mself\u001b[0m\u001b[0;34m)\u001b[0m\u001b[0;34m.\u001b[0m\u001b[0m__init__\u001b[0m\u001b[0;34m(\u001b[0m\u001b[0mparams\u001b[0m\u001b[0;34m,\u001b[0m \u001b[0mdefaults\u001b[0m\u001b[0;34m)\u001b[0m\u001b[0;34m\u001b[0m\u001b[0m\n\u001b[0m\u001b[1;32m     43\u001b[0m \u001b[0;34m\u001b[0m\u001b[0m\n\u001b[1;32m     44\u001b[0m     \u001b[0;32mdef\u001b[0m \u001b[0m__setstate__\u001b[0m\u001b[0;34m(\u001b[0m\u001b[0mself\u001b[0m\u001b[0;34m,\u001b[0m \u001b[0mstate\u001b[0m\u001b[0;34m)\u001b[0m\u001b[0;34m:\u001b[0m\u001b[0;34m\u001b[0m\u001b[0m\n",
      "\u001b[0;32m/anaconda3/lib/python3.6/site-packages/torch/optim/optimizer.py\u001b[0m in \u001b[0;36m__init__\u001b[0;34m(self, params, defaults)\u001b[0m\n\u001b[1;32m     43\u001b[0m         \u001b[0mparam_groups\u001b[0m \u001b[0;34m=\u001b[0m \u001b[0mlist\u001b[0m\u001b[0;34m(\u001b[0m\u001b[0mparams\u001b[0m\u001b[0;34m)\u001b[0m\u001b[0;34m\u001b[0m\u001b[0m\n\u001b[1;32m     44\u001b[0m         \u001b[0;32mif\u001b[0m \u001b[0mlen\u001b[0m\u001b[0;34m(\u001b[0m\u001b[0mparam_groups\u001b[0m\u001b[0;34m)\u001b[0m \u001b[0;34m==\u001b[0m \u001b[0;36m0\u001b[0m\u001b[0;34m:\u001b[0m\u001b[0;34m\u001b[0m\u001b[0m\n\u001b[0;32m---> 45\u001b[0;31m             \u001b[0;32mraise\u001b[0m \u001b[0mValueError\u001b[0m\u001b[0;34m(\u001b[0m\u001b[0;34m\"optimizer got an empty parameter list\"\u001b[0m\u001b[0;34m)\u001b[0m\u001b[0;34m\u001b[0m\u001b[0m\n\u001b[0m\u001b[1;32m     46\u001b[0m         \u001b[0;32mif\u001b[0m \u001b[0;32mnot\u001b[0m \u001b[0misinstance\u001b[0m\u001b[0;34m(\u001b[0m\u001b[0mparam_groups\u001b[0m\u001b[0;34m[\u001b[0m\u001b[0;36m0\u001b[0m\u001b[0;34m]\u001b[0m\u001b[0;34m,\u001b[0m \u001b[0mdict\u001b[0m\u001b[0;34m)\u001b[0m\u001b[0;34m:\u001b[0m\u001b[0;34m\u001b[0m\u001b[0m\n\u001b[1;32m     47\u001b[0m             \u001b[0mparam_groups\u001b[0m \u001b[0;34m=\u001b[0m \u001b[0;34m[\u001b[0m\u001b[0;34m{\u001b[0m\u001b[0;34m'params'\u001b[0m\u001b[0;34m:\u001b[0m \u001b[0mparam_groups\u001b[0m\u001b[0;34m}\u001b[0m\u001b[0;34m]\u001b[0m\u001b[0;34m\u001b[0m\u001b[0m\n",
      "\u001b[0;31mValueError\u001b[0m: optimizer got an empty parameter list"
     ]
    }
   ],
   "source": [
    "model = BaselineModel(num_blocks=3)\n",
    "criterion = nn.CrossEntropyLoss()\n",
    "optimizer = optim.Adam(model.parameters(), lr=1e-3, weight_decay=1e-5)\n",
    "device = torch.device(\"cuda\" if cuda else \"cpu\")\n",
    "print(model)"
   ]
  },
  {
   "cell_type": "code",
   "execution_count": 16,
   "metadata": {
    "colab": {},
    "colab_type": "code",
    "id": "kRLEOoHdzd7E"
   },
   "outputs": [],
   "source": [
    "def train(model,n_epochs,train_dataloader, test_loader):\n",
    "    model.train()\n",
    "    model.to(device)\n",
    "    train_losses = []\n",
    "    eval_losses = []\n",
    "    eval_accs = []\n",
    "    for epoch in range(n_epochs):\n",
    "        avg_loss = 0.0\n",
    "        for batch_num, (feats, labels) in enumerate(train_dataloader):\n",
    "            feats, labels = feats.to(device), labels.to(device)\n",
    "            optimizer.zero_grad()\n",
    "            outputs = model(feats)\n",
    "            loss = criterion(outputs, labels.long())\n",
    "            loss.backward()\n",
    "            \n",
    "            optimizer.step()\n",
    "            \n",
    "            avg_loss += loss.item()\n",
    "            if batch_num % 50 == 49:\n",
    "                print('Epoch: {}\\tBatch: {}\\tAvg-Loss: {:.4f}'.format(epoch+1, batch_num+1, avg_loss/50))\n",
    "                logging.debug('Epoch: {}\\tBatch: {}\\tAvg-Loss: {:.4f}'.format(epoch+1, batch_num+1, avg_loss/50))\n",
    "                avg_loss = 0.0    \n",
    "        \n",
    "            torch.cuda.empty_cache()\n",
    "            del feats\n",
    "            del labels\n",
    "            del loss\n",
    "        train_losses.append(avg_loss)\n",
    "        test_loss, test_accuracy = test_classify_loss(model,test_loader)\n",
    "        eval_losses.append(test_loss)\n",
    "        eval_accs.append(test_accuracy)\n",
    "        print('Epoch: {}\\tTrain Loss: {}\\tTest-Loss: {}\\tTest-acc: {:.4f}'.format(epoch+1, avg_loss, test_loss, test_accuracy))\n",
    "    return train_losses, eval_losses, eval_accs\n",
    "\n",
    "def test_classify_loss(model, test_loader):\n",
    "    with torch.no_grad():\n",
    "        model.eval()\n",
    "        test_loss = []\n",
    "        accuracy = 0\n",
    "        total = 0\n",
    "        for batch_num, (feats, labels) in enumerate(test_loader):\n",
    "            feats, labels = feats.to(device), labels.to(device)\n",
    "            outputs = model(feats)\n",
    "            _, pred_labels = torch.max(F.softmax(outputs, dim=1), 1)\n",
    "            pred_labels = pred_labels.view(-1)\n",
    "            loss = criterion(outputs, labels.long())\n",
    "            accuracy += torch.sum(torch.eq(pred_labels, labels)).item()\n",
    "            total += len(labels)\n",
    "            test_loss.extend([loss.item()]*feats.size()[0])\n",
    "            torch.cuda.empty_cache()\n",
    "            del feats\n",
    "            del labels\n",
    "    model.train()\n",
    "    return np.mean(test_loss), accuracy/total"
   ]
  },
  {
   "cell_type": "code",
   "execution_count": 17,
   "metadata": {
    "colab": {
     "base_uri": "https://localhost:8080/",
     "height": 429
    },
    "colab_type": "code",
    "executionInfo": {
     "elapsed": 30341,
     "status": "error",
     "timestamp": 1572056451006,
     "user": {
      "displayName": "Tejasri Thota",
      "photoUrl": "https://lh3.googleusercontent.com/a-/AAuE7mA-qo0IWRkoBECjG3L_eRQ7NjBOkZxcaesklum9=s64",
      "userId": "10780644812533486358"
     },
     "user_tz": 420
    },
    "id": "ACkvD4NVzd7G",
    "outputId": "9e3fc8f9-69ae-45f6-de28-8bdbbeb73637"
   },
   "outputs": [
    {
     "name": "stdout",
     "output_type": "stream",
     "text": [
      "Epoch: 1\tTrain Loss: 63.02754461765289\tTest-Loss: 2.197271955487664\tTest-acc: 0.1951\n",
      "Epoch: 2\tTrain Loss: 34.255574345588684\tTest-Loss: 2.087508680272623\tTest-acc: 0.1874\n",
      "Epoch: 3\tTrain Loss: 33.47430980205536\tTest-Loss: 2.035364953176966\tTest-acc: 0.1887\n",
      "Epoch: 4\tTrain Loss: 33.30989921092987\tTest-Loss: 2.0281211479025414\tTest-acc: 0.1630\n",
      "Epoch: 5\tTrain Loss: 33.05229163169861\tTest-Loss: 2.0194760417142485\tTest-acc: 0.1951\n",
      "Epoch: 6\tTrain Loss: 33.383405566215515\tTest-Loss: 2.049062414867122\tTest-acc: 0.1938\n",
      "Epoch: 7\tTrain Loss: 33.11706733703613\tTest-Loss: 2.131909435000438\tTest-acc: 0.1913\n",
      "Epoch: 8\tTrain Loss: 33.97400486469269\tTest-Loss: 2.0283821264188617\tTest-acc: 0.1913\n",
      "Epoch: 9\tTrain Loss: 33.10310983657837\tTest-Loss: 2.0222603766694762\tTest-acc: 0.1836\n",
      "Epoch: 10\tTrain Loss: 32.44009470939636\tTest-Loss: 2.01141713244006\tTest-acc: 0.1656\n",
      "Epoch: 11\tTrain Loss: 32.517762541770935\tTest-Loss: 2.007597753876134\tTest-acc: 0.1733\n",
      "Epoch: 12\tTrain Loss: 32.40723371505737\tTest-Loss: 2.06778985881683\tTest-acc: 0.1772\n",
      "Epoch: 13\tTrain Loss: 31.91122341156006\tTest-Loss: 1.992695270362041\tTest-acc: 0.2195\n",
      "Epoch: 14\tTrain Loss: 29.94897484779358\tTest-Loss: 1.9877051639924153\tTest-acc: 0.2003\n",
      "Epoch: 15\tTrain Loss: 27.952625155448914\tTest-Loss: 1.9833004563396488\tTest-acc: 0.2413\n",
      "Epoch: 16\tTrain Loss: 26.581252455711365\tTest-Loss: 1.9759248254847006\tTest-acc: 0.2439\n",
      "Epoch: 17\tTrain Loss: 25.09707736968994\tTest-Loss: 1.9175868508751492\tTest-acc: 0.2940\n",
      "Epoch: 18\tTrain Loss: 23.486581921577454\tTest-Loss: 1.9490412790447817\tTest-acc: 0.3030\n",
      "Epoch: 19\tTrain Loss: 21.98244321346283\tTest-Loss: 1.9269482869085819\tTest-acc: 0.3415\n",
      "Epoch: 20\tTrain Loss: 20.85996699333191\tTest-Loss: 1.8578318028456133\tTest-acc: 0.3736\n",
      "Epoch: 21\tTrain Loss: 19.055345058441162\tTest-Loss: 1.9095767534437167\tTest-acc: 0.3825\n",
      "Epoch: 22\tTrain Loss: 18.09263449907303\tTest-Loss: 1.7643759703605564\tTest-acc: 0.4557\n",
      "Epoch: 23\tTrain Loss: 16.488797426223755\tTest-Loss: 1.7646002302732946\tTest-acc: 0.4660\n",
      "Epoch: 24\tTrain Loss: 16.11677086353302\tTest-Loss: 1.7438131293834251\tTest-acc: 0.4968\n",
      "Epoch: 25\tTrain Loss: 14.982690274715424\tTest-Loss: 1.6505797480129003\tTest-acc: 0.5212\n",
      "Epoch: 26\tTrain Loss: 13.670868337154388\tTest-Loss: 1.6039675174230787\tTest-acc: 0.5661\n",
      "Epoch: 27\tTrain Loss: 12.612924218177795\tTest-Loss: 1.662767061985197\tTest-acc: 0.5789\n",
      "Epoch: 28\tTrain Loss: 11.53870815038681\tTest-Loss: 1.6469842971365933\tTest-acc: 0.5956\n",
      "Epoch: 29\tTrain Loss: 11.759343445301056\tTest-Loss: 1.5725463356377989\tTest-acc: 0.6547\n",
      "Epoch: 30\tTrain Loss: 10.782173454761505\tTest-Loss: 1.5672844521347458\tTest-acc: 0.6637\n",
      "Epoch: 31\tTrain Loss: 9.475961357355118\tTest-Loss: 1.5545457508199787\tTest-acc: 0.6714\n",
      "Epoch: 32\tTrain Loss: 8.301531583070755\tTest-Loss: 1.4816895170909603\tTest-acc: 0.6932\n",
      "Epoch: 33\tTrain Loss: 8.101411908864975\tTest-Loss: 1.70822577880497\tTest-acc: 0.6881\n",
      "Epoch: 34\tTrain Loss: 8.065676718950272\tTest-Loss: 1.517266629443089\tTest-acc: 0.7086\n",
      "Epoch: 35\tTrain Loss: 7.658566579222679\tTest-Loss: 1.5770100484457494\tTest-acc: 0.7035\n",
      "Epoch: 36\tTrain Loss: 7.23455747961998\tTest-Loss: 1.6752427735285826\tTest-acc: 0.7176\n",
      "Epoch: 37\tTrain Loss: 6.116135239601135\tTest-Loss: 1.6859336075335933\tTest-acc: 0.7343\n",
      "Epoch: 38\tTrain Loss: 5.520808205008507\tTest-Loss: 1.6728925016327296\tTest-acc: 0.7484\n",
      "Epoch: 39\tTrain Loss: 5.455847442150116\tTest-Loss: 1.6074839131057799\tTest-acc: 0.7510\n",
      "Epoch: 40\tTrain Loss: 4.781718134880066\tTest-Loss: 1.709536765062457\tTest-acc: 0.7433\n",
      "Epoch: 41\tTrain Loss: 5.04229736328125\tTest-Loss: 1.617685993863162\tTest-acc: 0.7651\n",
      "Epoch: 42\tTrain Loss: 4.876542955636978\tTest-Loss: 1.7070010611273359\tTest-acc: 0.7715\n",
      "Epoch: 43\tTrain Loss: 4.870917819440365\tTest-Loss: 1.6638738368380819\tTest-acc: 0.7664\n",
      "Epoch: 44\tTrain Loss: 4.656813427805901\tTest-Loss: 1.6903741172250641\tTest-acc: 0.7779\n",
      "Epoch: 45\tTrain Loss: 4.183464884757996\tTest-Loss: 1.64688291904709\tTest-acc: 0.7766\n",
      "Epoch: 46\tTrain Loss: 3.6028602942824364\tTest-Loss: 1.7248118465457862\tTest-acc: 0.7972\n",
      "Epoch: 47\tTrain Loss: 3.322302095592022\tTest-Loss: 1.7557749846455222\tTest-acc: 0.7882\n",
      "Epoch: 48\tTrain Loss: 3.2566355019807816\tTest-Loss: 1.8983994717775474\tTest-acc: 0.7895\n",
      "Epoch: 49\tTrain Loss: 3.4315510764718056\tTest-Loss: 1.7134720798538798\tTest-acc: 0.7843\n",
      "Epoch: 50\tTrain Loss: 2.8302826657891273\tTest-Loss: 1.936882221040738\tTest-acc: 0.7869\n",
      "Epoch: 51\tTrain Loss: 2.9302058443427086\tTest-Loss: 1.7527942504537732\tTest-acc: 0.7843\n",
      "Epoch: 52\tTrain Loss: 2.3980245664715767\tTest-Loss: 1.930142898461632\tTest-acc: 0.7869\n",
      "Epoch: 53\tTrain Loss: 2.5785831212997437\tTest-Loss: 1.9173977329887077\tTest-acc: 0.7882\n",
      "Epoch: 54\tTrain Loss: 2.3799159824848175\tTest-Loss: 1.8245518720195903\tTest-acc: 0.7908\n",
      "Epoch: 55\tTrain Loss: 2.0141441375017166\tTest-Loss: 1.9406421581649045\tTest-acc: 0.7920\n",
      "Epoch: 56\tTrain Loss: 1.9099472537636757\tTest-Loss: 2.0225002784018953\tTest-acc: 0.7869\n",
      "Epoch: 57\tTrain Loss: 2.082030549645424\tTest-Loss: 2.10981126468203\tTest-acc: 0.7920\n",
      "Epoch: 58\tTrain Loss: 2.449558846652508\tTest-Loss: 1.9923511634895217\tTest-acc: 0.7908\n",
      "Epoch: 59\tTrain Loss: 1.714689239859581\tTest-Loss: 2.0501416029458785\tTest-acc: 0.7946\n",
      "Epoch: 60\tTrain Loss: 1.4734539836645126\tTest-Loss: 1.9524945465988923\tTest-acc: 0.8023\n",
      "Epoch: 61\tTrain Loss: 1.4462365731596947\tTest-Loss: 2.1534290149980087\tTest-acc: 0.8010\n",
      "Epoch: 62\tTrain Loss: 1.594501294195652\tTest-Loss: 2.155587184184323\tTest-acc: 0.7972\n",
      "Epoch: 63\tTrain Loss: 2.0225273966789246\tTest-Loss: 2.0053323058935124\tTest-acc: 0.7997\n",
      "Epoch: 64\tTrain Loss: 1.738692246377468\tTest-Loss: 1.9375760728189666\tTest-acc: 0.7959\n",
      "Epoch: 65\tTrain Loss: 1.6362174842506647\tTest-Loss: 2.1084060066012578\tTest-acc: 0.8049\n",
      "Epoch: 66\tTrain Loss: 1.4597106650471687\tTest-Loss: 2.387943770674288\tTest-acc: 0.8010\n",
      "Epoch: 67\tTrain Loss: 1.43102515488863\tTest-Loss: 2.1978389656742667\tTest-acc: 0.8023\n",
      "Epoch: 68\tTrain Loss: 1.7133619859814644\tTest-Loss: 2.1034259817566583\tTest-acc: 0.7959\n",
      "Epoch: 69\tTrain Loss: 1.5388634726405144\tTest-Loss: 2.0456513593377443\tTest-acc: 0.7997\n",
      "Epoch: 70\tTrain Loss: 1.3177274838089943\tTest-Loss: 2.115461042511907\tTest-acc: 0.7997\n",
      "Epoch: 71\tTrain Loss: 1.1143242195248604\tTest-Loss: 2.0313029882996623\tTest-acc: 0.8049\n",
      "Epoch: 72\tTrain Loss: 1.3583964481949806\tTest-Loss: 2.2525964575952377\tTest-acc: 0.8074\n",
      "Epoch: 73\tTrain Loss: 1.0712494067847729\tTest-Loss: 2.328718438840188\tTest-acc: 0.8036\n",
      "Epoch: 74\tTrain Loss: 1.436148177832365\tTest-Loss: 2.1819995383090016\tTest-acc: 0.7972\n",
      "Epoch: 75\tTrain Loss: 1.4485858604311943\tTest-Loss: 2.29462229088427\tTest-acc: 0.8010\n",
      "Epoch: 76\tTrain Loss: 1.350230772048235\tTest-Loss: 2.405456450845525\tTest-acc: 0.7997\n",
      "Epoch: 77\tTrain Loss: 1.109291061758995\tTest-Loss: 2.1757212523777465\tTest-acc: 0.7997\n",
      "Epoch: 78\tTrain Loss: 1.5561730042099953\tTest-Loss: 1.9969602078008102\tTest-acc: 0.8023\n",
      "Epoch: 79\tTrain Loss: 1.1496587581932545\tTest-Loss: 2.290091164763993\tTest-acc: 0.7959\n",
      "Epoch: 80\tTrain Loss: 1.2617087736725807\tTest-Loss: 2.360918316057619\tTest-acc: 0.8087\n",
      "Epoch: 81\tTrain Loss: 0.595477445051074\tTest-Loss: 2.3053875410204827\tTest-acc: 0.8049\n",
      "Epoch: 82\tTrain Loss: 0.9232291579246521\tTest-Loss: 2.417849819834639\tTest-acc: 0.8074\n",
      "Epoch: 83\tTrain Loss: 1.0846186317503452\tTest-Loss: 2.2691509056458576\tTest-acc: 0.8049\n",
      "Epoch: 84\tTrain Loss: 1.000021480023861\tTest-Loss: 2.4831193208082345\tTest-acc: 0.8049\n",
      "Epoch: 85\tTrain Loss: 0.629687525331974\tTest-Loss: 2.5094500252156875\tTest-acc: 0.8036\n",
      "Epoch: 86\tTrain Loss: 0.8004595395177603\tTest-Loss: 2.3472628351659615\tTest-acc: 0.8010\n",
      "Epoch: 87\tTrain Loss: 0.8089630007743835\tTest-Loss: 2.456880748195428\tTest-acc: 0.7997\n",
      "Epoch: 88\tTrain Loss: 0.5617563016712666\tTest-Loss: 2.244372468551714\tTest-acc: 0.8049\n",
      "Epoch: 89\tTrain Loss: 0.632630430161953\tTest-Loss: 2.5576268273844494\tTest-acc: 0.8023\n",
      "Epoch: 90\tTrain Loss: 0.7333378568291664\tTest-Loss: 2.5014820303935297\tTest-acc: 0.8113\n",
      "Epoch: 91\tTrain Loss: 0.776920897886157\tTest-Loss: 2.449641624372333\tTest-acc: 0.8049\n",
      "Epoch: 92\tTrain Loss: 0.945023700594902\tTest-Loss: 2.434026934831751\tTest-acc: 0.8049\n",
      "Epoch: 93\tTrain Loss: 0.7327612973749638\tTest-Loss: 2.384038243275399\tTest-acc: 0.8036\n",
      "Epoch: 94\tTrain Loss: 0.8220262490212917\tTest-Loss: 2.23843639484572\tTest-acc: 0.8164\n",
      "Epoch: 95\tTrain Loss: 0.901484701782465\tTest-Loss: 2.583523218683774\tTest-acc: 0.8087\n"
     ]
    },
    {
     "name": "stdout",
     "output_type": "stream",
     "text": [
      "Epoch: 96\tTrain Loss: 0.8577483389526606\tTest-Loss: 2.489312084862754\tTest-acc: 0.8062\n",
      "Epoch: 97\tTrain Loss: 0.7897922731935978\tTest-Loss: 2.221649663898238\tTest-acc: 0.8049\n",
      "Epoch: 98\tTrain Loss: 1.1278361082077026\tTest-Loss: 2.405091494441377\tTest-acc: 0.8049\n",
      "Epoch: 99\tTrain Loss: 0.8412737846374512\tTest-Loss: 2.3307851352495774\tTest-acc: 0.8074\n",
      "Epoch: 100\tTrain Loss: 0.6021096855401993\tTest-Loss: 2.5781964998649234\tTest-acc: 0.8087\n",
      "Epoch: 101\tTrain Loss: 0.33426270820200443\tTest-Loss: 2.608663726985378\tTest-acc: 0.8074\n",
      "Epoch: 102\tTrain Loss: 0.44082098302897066\tTest-Loss: 2.412385626843101\tTest-acc: 0.8036\n",
      "Epoch: 103\tTrain Loss: 0.8207991756498814\tTest-Loss: 2.1519355876454953\tTest-acc: 0.8010\n",
      "Epoch: 104\tTrain Loss: 0.6097771618515253\tTest-Loss: 2.442733457370569\tTest-acc: 0.7972\n",
      "Epoch: 105\tTrain Loss: 0.7070735804736614\tTest-Loss: 2.2321162692083476\tTest-acc: 0.7997\n",
      "Epoch: 106\tTrain Loss: 0.554950412362814\tTest-Loss: 2.6642157342834865\tTest-acc: 0.8036\n",
      "Epoch: 107\tTrain Loss: 0.77818473870866\tTest-Loss: 2.6811446168762423\tTest-acc: 0.8062\n",
      "Epoch: 108\tTrain Loss: 0.7809900268912315\tTest-Loss: 2.450218917469617\tTest-acc: 0.8139\n",
      "Epoch: 109\tTrain Loss: 0.49222262017428875\tTest-Loss: 2.5410017948860686\tTest-acc: 0.8126\n",
      "Epoch: 110\tTrain Loss: 0.4380762530490756\tTest-Loss: 2.550418232463597\tTest-acc: 0.8023\n",
      "Epoch: 111\tTrain Loss: 0.2309824018739164\tTest-Loss: 2.8837998482627034\tTest-acc: 0.8100\n",
      "Epoch: 112\tTrain Loss: 0.39520161412656307\tTest-Loss: 2.5409519297473695\tTest-acc: 0.8062\n",
      "Epoch: 113\tTrain Loss: 0.44634710624814034\tTest-Loss: 2.5287785046519913\tTest-acc: 0.8074\n",
      "Epoch: 114\tTrain Loss: 0.47100087627768517\tTest-Loss: 2.6795254886073847\tTest-acc: 0.8113\n",
      "Epoch: 115\tTrain Loss: 0.7292201910167933\tTest-Loss: 2.494521130034186\tTest-acc: 0.8074\n",
      "Epoch: 116\tTrain Loss: 0.5794946774840355\tTest-Loss: 2.5442577892763776\tTest-acc: 0.8113\n",
      "Epoch: 117\tTrain Loss: 0.2652477063238621\tTest-Loss: 2.591475199673693\tTest-acc: 0.8036\n",
      "Epoch: 118\tTrain Loss: 0.5127888731658459\tTest-Loss: 2.6061257618229563\tTest-acc: 0.8100\n",
      "Epoch: 119\tTrain Loss: 0.5331762745045125\tTest-Loss: 2.630448031333659\tTest-acc: 0.8100\n",
      "Epoch: 120\tTrain Loss: 0.46487719425931573\tTest-Loss: 2.713818649654976\tTest-acc: 0.8087\n",
      "Epoch: 121\tTrain Loss: 0.5536064188927412\tTest-Loss: 3.0558871629149373\tTest-acc: 0.8087\n",
      "Epoch: 122\tTrain Loss: 0.5044365064240992\tTest-Loss: 2.641404986840542\tTest-acc: 0.8036\n",
      "Epoch: 123\tTrain Loss: 0.3977219741791487\tTest-Loss: 2.5946340153856977\tTest-acc: 0.7972\n",
      "Epoch: 124\tTrain Loss: 0.7120797485113144\tTest-Loss: 2.6221088267413277\tTest-acc: 0.8049\n",
      "Epoch: 125\tTrain Loss: 0.42287405859678984\tTest-Loss: 2.87321720502802\tTest-acc: 0.8074\n",
      "Epoch: 126\tTrain Loss: 0.5669622961431742\tTest-Loss: 2.51898917582589\tTest-acc: 0.8010\n",
      "Epoch: 127\tTrain Loss: 0.3595211673527956\tTest-Loss: 2.5710936290461843\tTest-acc: 0.8036\n",
      "Epoch: 128\tTrain Loss: 0.42661979608237743\tTest-Loss: 2.562782505969487\tTest-acc: 0.8074\n",
      "Epoch: 129\tTrain Loss: 0.5761575810611248\tTest-Loss: 2.683817518843919\tTest-acc: 0.8113\n",
      "Epoch: 130\tTrain Loss: 0.5223833583295345\tTest-Loss: 2.6843723895767075\tTest-acc: 0.8062\n",
      "Epoch: 131\tTrain Loss: 0.409076907671988\tTest-Loss: 2.7045549550625725\tTest-acc: 0.8036\n",
      "Epoch: 132\tTrain Loss: 0.4307410581968725\tTest-Loss: 2.5387767257984244\tTest-acc: 0.8036\n",
      "Epoch: 133\tTrain Loss: 0.38609018782153726\tTest-Loss: 2.72591412143965\tTest-acc: 0.8074\n",
      "Epoch: 134\tTrain Loss: 0.37128590047359467\tTest-Loss: 2.7645050472411326\tTest-acc: 0.8036\n",
      "Epoch: 135\tTrain Loss: 0.5989138092845678\tTest-Loss: 2.776150458584395\tTest-acc: 0.8036\n",
      "Epoch: 136\tTrain Loss: 0.5375258587300777\tTest-Loss: 2.798991855209997\tTest-acc: 0.8049\n",
      "Epoch: 137\tTrain Loss: 0.3184084922540933\tTest-Loss: 2.8706871214512835\tTest-acc: 0.8151\n",
      "Epoch: 138\tTrain Loss: 0.5300257978960872\tTest-Loss: 2.823935146968386\tTest-acc: 0.8151\n",
      "Epoch: 139\tTrain Loss: 0.47745024133473635\tTest-Loss: 2.5960088908594323\tTest-acc: 0.8010\n",
      "Epoch: 140\tTrain Loss: 0.39036975940689445\tTest-Loss: 2.6991790996838136\tTest-acc: 0.8087\n",
      "Epoch: 141\tTrain Loss: 0.3354419721290469\tTest-Loss: 2.63995252983867\tTest-acc: 0.8126\n",
      "Epoch: 142\tTrain Loss: 0.4263077392242849\tTest-Loss: 2.9869815108099704\tTest-acc: 0.8113\n",
      "Epoch: 143\tTrain Loss: 0.28050217777490616\tTest-Loss: 2.880541183217003\tTest-acc: 0.8036\n",
      "Epoch: 144\tTrain Loss: 0.4919953774660826\tTest-Loss: 2.7752851870613933\tTest-acc: 0.8049\n",
      "Epoch: 145\tTrain Loss: 0.40155009645968676\tTest-Loss: 2.532831742307494\tTest-acc: 0.8049\n",
      "Epoch: 146\tTrain Loss: 0.4190959862899035\tTest-Loss: 3.0305296429008513\tTest-acc: 0.8087\n",
      "Epoch: 147\tTrain Loss: 0.5836616368032992\tTest-Loss: 2.608085562543171\tTest-acc: 0.8062\n",
      "Epoch: 148\tTrain Loss: 0.5223574060946703\tTest-Loss: 2.631654238899804\tTest-acc: 0.8100\n",
      "Epoch: 149\tTrain Loss: 0.43542473297566175\tTest-Loss: 2.8944245590631095\tTest-acc: 0.8113\n",
      "Epoch: 150\tTrain Loss: 0.41226870380342007\tTest-Loss: 2.831162332417264\tTest-acc: 0.8036\n",
      "Epoch: 151\tTrain Loss: 0.527801625430584\tTest-Loss: 2.7321673076174227\tTest-acc: 0.8074\n",
      "Epoch: 152\tTrain Loss: 0.43016992416232824\tTest-Loss: 2.753571814535824\tTest-acc: 0.8074\n",
      "Epoch: 153\tTrain Loss: 0.3376905443146825\tTest-Loss: 2.870989356940763\tTest-acc: 0.8087\n",
      "Epoch: 154\tTrain Loss: 0.5850861892104149\tTest-Loss: 2.8787270813453487\tTest-acc: 0.8126\n",
      "Epoch: 155\tTrain Loss: 0.33761761942878366\tTest-Loss: 2.559608830414005\tTest-acc: 0.8139\n",
      "Epoch: 156\tTrain Loss: 0.4259578660130501\tTest-Loss: 2.4410865368065693\tTest-acc: 0.8087\n",
      "Epoch: 157\tTrain Loss: 0.30984217824880034\tTest-Loss: 2.6700836159910564\tTest-acc: 0.8087\n",
      "Epoch: 158\tTrain Loss: 0.32469750195741653\tTest-Loss: 3.0339087576860027\tTest-acc: 0.8087\n",
      "Epoch: 159\tTrain Loss: 0.5747010111808777\tTest-Loss: 2.6830746579690525\tTest-acc: 0.8036\n",
      "Epoch: 160\tTrain Loss: 0.5107034728862345\tTest-Loss: 2.3539613361383127\tTest-acc: 0.7972\n",
      "Epoch: 161\tTrain Loss: 0.4856945581850596\tTest-Loss: 2.9532295590952824\tTest-acc: 0.8049\n",
      "Epoch: 162\tTrain Loss: 0.5026320517063141\tTest-Loss: 2.8522853678396025\tTest-acc: 0.8074\n",
      "Epoch: 163\tTrain Loss: 0.6069444362074137\tTest-Loss: 2.506405687148519\tTest-acc: 0.8049\n",
      "Epoch: 164\tTrain Loss: 0.37209257017821074\tTest-Loss: 2.6207039665349487\tTest-acc: 0.8010\n",
      "Epoch: 165\tTrain Loss: 0.38642058661207557\tTest-Loss: 2.6559297996399795\tTest-acc: 0.8049\n",
      "Epoch: 166\tTrain Loss: 0.33373063057661057\tTest-Loss: 2.6665744221409415\tTest-acc: 0.8023\n",
      "Epoch: 167\tTrain Loss: 0.4234970435500145\tTest-Loss: 2.961995924238369\tTest-acc: 0.8113\n",
      "Epoch: 168\tTrain Loss: 0.4982102457433939\tTest-Loss: 2.7476018434617577\tTest-acc: 0.8074\n",
      "Epoch: 169\tTrain Loss: 0.5385562218725681\tTest-Loss: 2.6401355828186053\tTest-acc: 0.7985\n",
      "Epoch: 170\tTrain Loss: 0.49233289202675223\tTest-Loss: 2.9563372918668853\tTest-acc: 0.8062\n",
      "Epoch: 171\tTrain Loss: 0.5930089741013944\tTest-Loss: 2.6696881254769105\tTest-acc: 0.8036\n",
      "Epoch: 172\tTrain Loss: 0.2502288550604135\tTest-Loss: 2.9754088564616876\tTest-acc: 0.8113\n",
      "Epoch: 173\tTrain Loss: 0.39132192137185484\tTest-Loss: 2.9051074987810597\tTest-acc: 0.8087\n",
      "Epoch: 174\tTrain Loss: 0.27634338289499283\tTest-Loss: 2.829928166140947\tTest-acc: 0.7985\n",
      "Epoch: 175\tTrain Loss: 0.32164856791496277\tTest-Loss: 3.137413670989148\tTest-acc: 0.8023\n",
      "Epoch: 176\tTrain Loss: 0.4613668844103813\tTest-Loss: 3.0467048352428825\tTest-acc: 0.8062\n",
      "Epoch: 177\tTrain Loss: 0.5082024522125721\tTest-Loss: 2.877759550900147\tTest-acc: 0.8023\n",
      "Epoch: 178\tTrain Loss: 0.6419728687033057\tTest-Loss: 3.3371854544604083\tTest-acc: 0.8010\n",
      "Epoch: 179\tTrain Loss: 0.6272684447467327\tTest-Loss: 2.7141563096615715\tTest-acc: 0.8023\n",
      "Epoch: 180\tTrain Loss: 0.506156712770462\tTest-Loss: 2.8933441144664114\tTest-acc: 0.8010\n",
      "Epoch: 181\tTrain Loss: 0.4937862977385521\tTest-Loss: 3.063972130360438\tTest-acc: 0.8074\n",
      "Epoch: 182\tTrain Loss: 0.8850037530064583\tTest-Loss: 2.801416899640692\tTest-acc: 0.8010\n",
      "Epoch: 183\tTrain Loss: 1.0436766594648361\tTest-Loss: 2.680370071274019\tTest-acc: 0.8113\n",
      "Epoch: 184\tTrain Loss: 0.7529689371585846\tTest-Loss: 2.618335963978847\tTest-acc: 0.8062\n",
      "Epoch: 185\tTrain Loss: 0.38181762769818306\tTest-Loss: 2.8121270588640987\tTest-acc: 0.8062\n",
      "Epoch: 186\tTrain Loss: 0.6411852315068245\tTest-Loss: 2.960044009235612\tTest-acc: 0.8126\n",
      "Epoch: 187\tTrain Loss: 0.4595851912163198\tTest-Loss: 2.810859973990718\tTest-acc: 0.7972\n",
      "Epoch: 188\tTrain Loss: 0.5164173692464828\tTest-Loss: 2.502023591309671\tTest-acc: 0.8100\n"
     ]
    },
    {
     "name": "stdout",
     "output_type": "stream",
     "text": [
      "Epoch: 189\tTrain Loss: 0.4835682064294815\tTest-Loss: 2.5915546772263083\tTest-acc: 0.7972\n",
      "Epoch: 190\tTrain Loss: 0.574068583548069\tTest-Loss: 2.9636481417311935\tTest-acc: 0.8113\n",
      "Epoch: 191\tTrain Loss: 0.4528897777199745\tTest-Loss: 2.3686141355658985\tTest-acc: 0.8010\n",
      "Epoch: 192\tTrain Loss: 0.4885578602552414\tTest-Loss: 3.2086004384521956\tTest-acc: 0.8036\n",
      "Epoch: 193\tTrain Loss: 0.48900020867586136\tTest-Loss: 3.457954230449347\tTest-acc: 0.7959\n",
      "Epoch: 194\tTrain Loss: 0.7062461730092764\tTest-Loss: 2.5764408376311767\tTest-acc: 0.8074\n",
      "Epoch: 195\tTrain Loss: 0.5861465424532071\tTest-Loss: 2.6071280894444753\tTest-acc: 0.8113\n",
      "Epoch: 196\tTrain Loss: 0.29166228463873267\tTest-Loss: 2.963573941829422\tTest-acc: 0.8139\n",
      "Epoch: 197\tTrain Loss: 0.3229213356971741\tTest-Loss: 2.90779328835944\tTest-acc: 0.8100\n",
      "Epoch: 198\tTrain Loss: 0.6613255441188812\tTest-Loss: 2.6967037861858314\tTest-acc: 0.8049\n",
      "Epoch: 199\tTrain Loss: 0.5834210533648729\tTest-Loss: 2.8140170864941476\tTest-acc: 0.8036\n",
      "Epoch: 200\tTrain Loss: 0.3354586154164281\tTest-Loss: 3.2135164165374404\tTest-acc: 0.8087\n"
     ]
    }
   ],
   "source": [
    "train_losses, eval_losses, eval_accs = train(model,200, train_dataloader,dev_dataloader)"
   ]
  },
  {
   "cell_type": "code",
   "execution_count": 20,
   "metadata": {},
   "outputs": [],
   "source": [
    "import matplotlib.pyplot as plt"
   ]
  },
  {
   "cell_type": "code",
   "execution_count": 21,
   "metadata": {
    "colab": {},
    "colab_type": "code",
    "id": "d6AXVsznzd7J"
   },
   "outputs": [
    {
     "data": {
      "image/png": "[encoded data removed]",
      "text/plain": [
       "<Figure size 432x288 with 1 Axes>"
      ]
     },
     "metadata": {
      "needs_background": "light"
     },
     "output_type": "display_data"
    }
   ],
   "source": [
    "plt.title('Training Loss')\n",
    "plt.xlabel('Epoch Number')\n",
    "plt.ylabel('Loss')\n",
    "plt.plot(train_losses)\n",
    "plt.savefig(\"training_loss.png\")"
   ]
  },
  {
   "cell_type": "code",
   "execution_count": 22,
   "metadata": {},
   "outputs": [
    {
     "data": {
      "image/png": "[encoded data removed]",
      "text/plain": [
       "<Figure size 432x288 with 1 Axes>"
      ]
     },
     "metadata": {
      "needs_background": "light"
     },
     "output_type": "display_data"
    }
   ],
   "source": [
    "plt.title('Validation Accuracy')\n",
    "plt.xlabel('Epoch Number')\n",
    "plt.ylabel('accuracy')\n",
    "plt.plot(eval_accs)\n",
    "plt.savefig(\"val_acc.png\")"
   ]
  }
 ],
 "metadata": {
  "colab": {
   "collapsed_sections": [],
   "name": "baseline_cnn (1).ipynb",
   "provenance": []
  },
  "kernelspec": {
   "display_name": "Python 3",
   "language": "python",
   "name": "python3"
  },
  "language_info": {
   "codemirror_mode": {
    "name": "ipython",
    "version": 3
   },
   "file_extension": ".py",
   "mimetype": "text/x-python",
   "name": "python",
   "nbconvert_exporter": "python",
   "pygments_lexer": "ipython3",
   "version": "3.6.5"
  }
 },
 "nbformat": 4,
 "nbformat_minor": 1
}
