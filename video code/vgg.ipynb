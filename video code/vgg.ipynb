{
 "cells": [
  {
   "cell_type": "code",
   "execution_count": 12,
   "metadata": {},
   "outputs": [
    {
     "ename": "ImportError",
     "evalue": "No module named serialization",
     "output_type": "error",
     "traceback": [
      "\u001b[0;31m---------------------------------------------------------------------------\u001b[0m",
      "\u001b[0;31mImportError\u001b[0m                               Traceback (most recent call last)",
      "\u001b[0;32m<ipython-input-12-9329b1b58b4d>\u001b[0m in \u001b[0;36m<module>\u001b[0;34m()\u001b[0m\n\u001b[1;32m      8\u001b[0m \u001b[0;32mfrom\u001b[0m \u001b[0mPIL\u001b[0m \u001b[0;32mimport\u001b[0m \u001b[0mImage\u001b[0m\u001b[0;34m\u001b[0m\u001b[0m\n\u001b[1;32m      9\u001b[0m \u001b[0;32mfrom\u001b[0m \u001b[0mmatplotlib\u001b[0m \u001b[0;32mimport\u001b[0m \u001b[0mcm\u001b[0m\u001b[0;34m\u001b[0m\u001b[0m\n\u001b[0;32m---> 10\u001b[0;31m \u001b[0;32mfrom\u001b[0m \u001b[0mtorch\u001b[0m\u001b[0;34m.\u001b[0m\u001b[0mutils\u001b[0m\u001b[0;34m.\u001b[0m\u001b[0mserialization\u001b[0m \u001b[0;32mimport\u001b[0m \u001b[0mload_lua\u001b[0m\u001b[0;34m\u001b[0m\u001b[0m\n\u001b[0m",
      "\u001b[0;31mImportError\u001b[0m: No module named serialization"
     ]
    }
   ],
   "source": [
    "import cv2\n",
    "import torch\n",
    "\n",
    "import torch\n",
    "import torch.nn as nn\n",
    "import numpy as np\n",
    "import torchvision\n",
    "from PIL import Image\n",
    "from matplotlib import cm\n",
    "from torch.utils.serialization import load_lua"
   ]
  },
  {
   "cell_type": "code",
   "execution_count": 2,
   "metadata": {
    "collapsed": true
   },
   "outputs": [],
   "source": [
    "## fer map\n",
    "emotion_dict = {0: \"Anger\", 1: \"Disgust\", 2: \"Fear\", 3: \"Happiness\", 4: \"Sadness\", 5: \"Surprise\", 6: \"Neutral\"}\n",
    "\n",
    "\n",
    "class Config:\n",
    "    def __init__(self, **kwargs):\n",
    "        for key, value in kwargs.items():\n",
    "            setattr(self, key, value)\n",
    "\n",
    "config = Config(\n",
    "    num_classes = 7,\n",
    "    width = 224,\n",
    "    height = 224,\n",
    "    num_epochs = 30,\n",
    "    batch_size = 32,\n",
    "    feat_dim = 11,\n",
    "    lr_cent = 0.5,\n",
    "    closs_weight = 0.5,\n",
    "    ckp = True\n",
    ")"
   ]
  },
  {
   "cell_type": "code",
   "execution_count": 8,
   "metadata": {},
   "outputs": [
    {
     "ename": "RuntimeError",
     "evalue": "Error(s) in loading state_dict for VGG:\n\tMissing key(s) in state_dict: \"features.0.bias\", \"features.0.weight\", \"features.1.running_var\", \"features.1.bias\", \"features.1.weight\", \"features.1.running_mean\", \"features.3.bias\", \"features.3.weight\", \"features.4.running_var\", \"features.4.bias\", \"features.4.weight\", \"features.4.running_mean\", \"features.7.bias\", \"features.7.weight\", \"features.8.running_var\", \"features.8.bias\", \"features.8.weight\", \"features.8.running_mean\", \"features.10.bias\", \"features.10.weight\", \"features.11.running_var\", \"features.11.bias\", \"features.11.weight\", \"features.11.running_mean\", \"features.14.bias\", \"features.14.weight\", \"features.15.running_var\", \"features.15.bias\", \"features.15.weight\", \"features.15.running_mean\", \"features.17.bias\", \"features.17.weight\", \"features.18.running_var\", \"features.18.bias\", \"features.18.weight\", \"features.18.running_mean\", \"features.20.bias\", \"features.20.weight\", \"features.21.running_var\", \"features.21.bias\", \"features.21.weight\", \"features.21.running_mean\", \"features.23.bias\", \"features.23.weight\", \"features.24.running_var\", \"features.24.bias\", \"features.24.weight\", \"features.24.running_mean\", \"features.27.bias\", \"features.27.weight\", \"features.28.running_var\", \"features.28.bias\", \"features.28.weight\", \"features.28.running_mean\", \"features.30.bias\", \"features.30.weight\", \"features.31.running_var\", \"features.31.bias\", \"features.31.weight\", \"features.31.running_mean\", \"features.33.bias\", \"features.33.weight\", \"features.34.running_var\", \"features.34.bias\", \"features.34.weight\", \"features.34.running_mean\", \"features.36.bias\", \"features.36.weight\", \"features.37.running_var\", \"features.37.bias\", \"features.37.weight\", \"features.37.running_mean\", \"features.40.bias\", \"features.40.weight\", \"features.41.running_var\", \"features.41.bias\", \"features.41.weight\", \"features.41.running_mean\", \"features.43.bias\", \"features.43.weight\", \"features.44.running_var\", \"features.44.bias\", \"features.44.weight\", \"features.44.running_mean\", \"features.46.bias\", \"features.46.weight\", \"features.47.running_var\", \"features.47.bias\", \"features.47.weight\", \"features.47.running_mean\", \"features.49.bias\", \"features.49.weight\", \"features.50.running_var\", \"features.50.bias\", \"features.50.weight\", \"features.50.running_mean\", \"classifier.bias\", \"classifier.weight\". \n\tUnexpected key(s) in state_dict: \"best_PrivateTest_acc\", \"net\", \"best_PublicTest_acc_epoch\", \"best_PrivateTest_acc_epoch\", \"best_PublicTest_acc\". ",
     "output_type": "error",
     "traceback": [
      "\u001b[0;31m---------------------------------------------------------------------------\u001b[0m",
      "\u001b[0;31mRuntimeError\u001b[0m                              Traceback (most recent call last)",
      "\u001b[0;32m<ipython-input-8-9c96b64caa1c>\u001b[0m in \u001b[0;36m<module>\u001b[0;34m()\u001b[0m\n\u001b[1;32m     34\u001b[0m \u001b[0;34m\u001b[0m\u001b[0m\n\u001b[1;32m     35\u001b[0m \u001b[0mmodel\u001b[0m \u001b[0;34m=\u001b[0m \u001b[0mVGG\u001b[0m\u001b[0;34m(\u001b[0m\u001b[0;34m'VGG19'\u001b[0m\u001b[0;34m)\u001b[0m\u001b[0;34m\u001b[0m\u001b[0m\n\u001b[0;32m---> 36\u001b[0;31m \u001b[0mmodel\u001b[0m\u001b[0;34m.\u001b[0m\u001b[0mload_state_dict\u001b[0m\u001b[0;34m(\u001b[0m\u001b[0mtorch\u001b[0m\u001b[0;34m.\u001b[0m\u001b[0mload\u001b[0m\u001b[0;34m(\u001b[0m\u001b[0;34m'models/vgg.t7'\u001b[0m\u001b[0;34m,\u001b[0m \u001b[0mmap_location\u001b[0m\u001b[0;34m=\u001b[0m\u001b[0mtorch\u001b[0m\u001b[0;34m.\u001b[0m\u001b[0mdevice\u001b[0m\u001b[0;34m(\u001b[0m\u001b[0;34m'cpu'\u001b[0m\u001b[0;34m)\u001b[0m\u001b[0;34m)\u001b[0m\u001b[0;34m)\u001b[0m\u001b[0;34m\u001b[0m\u001b[0m\n\u001b[0m\u001b[1;32m     37\u001b[0m \u001b[0mmodel\u001b[0m\u001b[0;34m.\u001b[0m\u001b[0meval\u001b[0m\u001b[0;34m(\u001b[0m\u001b[0;34m)\u001b[0m\u001b[0;34m\u001b[0m\u001b[0m\n",
      "\u001b[0;32m/Users/sumeet/anaconda2/lib/python2.7/site-packages/torch/nn/modules/module.pyc\u001b[0m in \u001b[0;36mload_state_dict\u001b[0;34m(self, state_dict, strict)\u001b[0m\n\u001b[1;32m    837\u001b[0m         \u001b[0;32mif\u001b[0m \u001b[0mlen\u001b[0m\u001b[0;34m(\u001b[0m\u001b[0merror_msgs\u001b[0m\u001b[0;34m)\u001b[0m \u001b[0;34m>\u001b[0m \u001b[0;36m0\u001b[0m\u001b[0;34m:\u001b[0m\u001b[0;34m\u001b[0m\u001b[0m\n\u001b[1;32m    838\u001b[0m             raise RuntimeError('Error(s) in loading state_dict for {}:\\n\\t{}'.format(\n\u001b[0;32m--> 839\u001b[0;31m                                self.__class__.__name__, \"\\n\\t\".join(error_msgs)))\n\u001b[0m\u001b[1;32m    840\u001b[0m         \u001b[0;32mreturn\u001b[0m \u001b[0m_IncompatibleKeys\u001b[0m\u001b[0;34m(\u001b[0m\u001b[0mmissing_keys\u001b[0m\u001b[0;34m,\u001b[0m \u001b[0munexpected_keys\u001b[0m\u001b[0;34m)\u001b[0m\u001b[0;34m\u001b[0m\u001b[0m\n\u001b[1;32m    841\u001b[0m \u001b[0;34m\u001b[0m\u001b[0m\n",
      "\u001b[0;31mRuntimeError\u001b[0m: Error(s) in loading state_dict for VGG:\n\tMissing key(s) in state_dict: \"features.0.bias\", \"features.0.weight\", \"features.1.running_var\", \"features.1.bias\", \"features.1.weight\", \"features.1.running_mean\", \"features.3.bias\", \"features.3.weight\", \"features.4.running_var\", \"features.4.bias\", \"features.4.weight\", \"features.4.running_mean\", \"features.7.bias\", \"features.7.weight\", \"features.8.running_var\", \"features.8.bias\", \"features.8.weight\", \"features.8.running_mean\", \"features.10.bias\", \"features.10.weight\", \"features.11.running_var\", \"features.11.bias\", \"features.11.weight\", \"features.11.running_mean\", \"features.14.bias\", \"features.14.weight\", \"features.15.running_var\", \"features.15.bias\", \"features.15.weight\", \"features.15.running_mean\", \"features.17.bias\", \"features.17.weight\", \"features.18.running_var\", \"features.18.bias\", \"features.18.weight\", \"features.18.running_mean\", \"features.20.bias\", \"features.20.weight\", \"features.21.running_var\", \"features.21.bias\", \"features.21.weight\", \"features.21.running_mean\", \"features.23.bias\", \"features.23.weight\", \"features.24.running_var\", \"features.24.bias\", \"features.24.weight\", \"features.24.running_mean\", \"features.27.bias\", \"features.27.weight\", \"features.28.running_var\", \"features.28.bias\", \"features.28.weight\", \"features.28.running_mean\", \"features.30.bias\", \"features.30.weight\", \"features.31.running_var\", \"features.31.bias\", \"features.31.weight\", \"features.31.running_mean\", \"features.33.bias\", \"features.33.weight\", \"features.34.running_var\", \"features.34.bias\", \"features.34.weight\", \"features.34.running_mean\", \"features.36.bias\", \"features.36.weight\", \"features.37.running_var\", \"features.37.bias\", \"features.37.weight\", \"features.37.running_mean\", \"features.40.bias\", \"features.40.weight\", \"features.41.running_var\", \"features.41.bias\", \"features.41.weight\", \"features.41.running_mean\", \"features.43.bias\", \"features.43.weight\", \"features.44.running_var\", \"features.44.bias\", \"features.44.weight\", \"features.44.running_mean\", \"features.46.bias\", \"features.46.weight\", \"features.47.running_var\", \"features.47.bias\", \"features.47.weight\", \"features.47.running_mean\", \"features.49.bias\", \"features.49.weight\", \"features.50.running_var\", \"features.50.bias\", \"features.50.weight\", \"features.50.running_mean\", \"classifier.bias\", \"classifier.weight\". \n\tUnexpected key(s) in state_dict: \"best_PrivateTest_acc\", \"net\", \"best_PublicTest_acc_epoch\", \"best_PrivateTest_acc_epoch\", \"best_PublicTest_acc\". "
     ]
    }
   ],
   "source": [
    "cfg = {\n",
    "    'VGG11': [64, 'M', 128, 'M', 256, 256, 'M', 512, 512, 'M', 512, 512, 'M'],\n",
    "    'VGG13': [64, 64, 'M', 128, 128, 'M', 256, 256, 'M', 512, 512, 'M', 512, 512, 'M'],\n",
    "    'VGG16': [64, 64, 'M', 128, 128, 'M', 256, 256, 256, 'M', 512, 512, 512, 'M', 512, 512, 512, 'M'],\n",
    "    'VGG19': [64, 64, 'M', 128, 128, 'M', 256, 256, 256, 256, 'M', 512, 512, 512, 512, 'M', 512, 512, 512, 512, 'M'],\n",
    "}\n",
    "\n",
    "class VGG(nn.Module):\n",
    "    def __init__(self, vgg_name):\n",
    "        super(VGG, self).__init__()\n",
    "        self.features = self._make_layers(cfg[vgg_name])\n",
    "        self.classifier = nn.Linear(512, 7)\n",
    "\n",
    "    def forward(self, x):\n",
    "        out = self.features(x)\n",
    "        out = out.view(out.size(0), -1)\n",
    "        out = F.dropout(out, p=0.5, training=self.training)\n",
    "        out = self.classifier(out)\n",
    "        return out\n",
    "\n",
    "    def _make_layers(self, cfg):\n",
    "        layers = []\n",
    "        in_channels = 3\n",
    "        for x in cfg:\n",
    "            if x == 'M':\n",
    "                layers += [nn.MaxPool2d(kernel_size=2, stride=2)]\n",
    "            else:\n",
    "                layers += [nn.Conv2d(in_channels, x, kernel_size=3, padding=1),\n",
    "                           nn.BatchNorm2d(x),\n",
    "                           nn.ReLU(inplace=True)]\n",
    "                in_channels = x\n",
    "        layers += [nn.AvgPool2d(kernel_size=1, stride=1)]\n",
    "        return nn.Sequential(*layers)\n",
    "    \n",
    "model = VGG('VGG19')\n",
    "model.load_state_dict(torch.load('models/vgg.t7', map_location=torch.device('cpu')))\n",
    "model.eval()\n"
   ]
  },
  {
   "cell_type": "code",
   "execution_count": 4,
   "metadata": {},
   "outputs": [
    {
     "name": "stdout",
     "output_type": "stream",
     "text": [
      "('frame shape: ', (490, 640, 3))\n",
      "('img shape: ', (1, 1, 224, 224))\n",
      "<type 'numpy.ndarray'>\n",
      "tensor([[  40.6555, -342.3951, -361.2148, -122.0296,  267.2000,   -0.6571,\n",
      "          -64.9311]], grad_fn=<AddmmBackward>)\n",
      "4\n"
     ]
    }
   ],
   "source": [
    "# Load the cascade\n",
    "face_cascade = cv2.CascadeClassifier('haarcascade_frontalface_default.xml')\n",
    "\n",
    "# Read the input image\n",
    "frame = cv2.imread('test6_sad.png')\n",
    "\n",
    "# Convert into grayscale\n",
    "gray = cv2.cvtColor(frame, cv2.COLOR_BGR2GRAY)\n",
    "print(\"frame shape: \", frame.shape)\n",
    "\n",
    "# Detect faces\n",
    "faces = face_cascade.detectMultiScale(gray, 1.1, 4)\n",
    "\n",
    "\n",
    "# Draw the rectangle around each face\n",
    "for (x, y, w, h) in faces:\n",
    "    cv2.rectangle(frame, (x, y), (x + w, y + h), (0, 255, 0), 1)\n",
    "    roi_gray = gray[y:y + h, x:x + w]\n",
    "    \n",
    "    \n",
    "    cropped_img = np.expand_dims(np.expand_dims(cv2.resize(roi_gray, (224, 224)), 0), 0)\n",
    "    cv2.normalize(cropped_img, cropped_img, alpha=0, beta=1, norm_type=cv2.NORM_L2, dtype=cv2.CV_32F)\n",
    "    \n",
    "    print(\"img shape: \", cropped_img.shape)\n",
    "    print(type(cropped_img))\n",
    "    \n",
    "    cropped_img = torch.from_numpy(cropped_img)\n",
    "    cropped_img = cropped_img.float()\n",
    "    prediction = model(cropped_img)\n",
    "        \n",
    "    print(prediction)\n",
    "    print(torch.argmax(prediction).item())\n",
    "    cv2.putText(frame, emotion_dict[int(torch.argmax(prediction).item())], (x, y), cv2.FONT_HERSHEY_SIMPLEX, 0.8, (0, 255, 0), 1, cv2.LINE_AA)\n",
    "\n",
    "\n",
    "    \n",
    "# Display\n",
    "cv2.imshow('frame', frame)\n",
    "cv2.waitKey(0)\n",
    "cv2.destroyWindow('frame')"
   ]
  },
  {
   "cell_type": "code",
   "execution_count": 5,
   "metadata": {
    "collapsed": true
   },
   "outputs": [],
   "source": [
    "# # # To capture video from webcam. \n",
    "# cap = cv2.VideoCapture(0)\n",
    "# # # To use a video file as input \n",
    "# # cap = cv2.VideoCapture('filename.mp4')\n",
    "\n",
    "# # # Load the cascade\n",
    "# face_cascade = cv2.CascadeClassifier('haarcascade_frontalface_default.xml')\n",
    "\n",
    "\n",
    "# while True:\n",
    "#     # Read the frame\n",
    "#     ret, frame = cap.read()\n",
    "    \n",
    "#     # Convert to grayscale\n",
    "#     gray = cv2.cvtColor(frame, cv2.COLOR_BGR2GRAY)\n",
    "    \n",
    "#     # Detect the faces\n",
    "#     faces = face_cascade.detectMultiScale(gray, 1.3, 5)\n",
    "    \n",
    "#     # Draw the rectangle around each face\n",
    "#     for (x, y, w, h) in faces:\n",
    "#         cv2.rectangle(frame, (x, y), (x + w, y + h), (0, 255, 0), 1)\n",
    "#         roi_gray = gray[y:y + h, x:x + w]\n",
    "# #         cropped_img = np.expand_dims(np.expand_dims(cv2.resize(roi_gray, (48, 48)), -1), 0)\n",
    "#         cropped_img = np.expand_dims(np.expand_dims(cv2.resize(roi_gray, (224, 224)), 0), 0)\n",
    "\n",
    "#         cv2.normalize(cropped_img, cropped_img, alpha=0, beta=1, norm_type=cv2.NORM_L2, dtype=cv2.CV_32F)\n",
    "\n",
    "#         cropped_img = torch.from_numpy(cropped_img)\n",
    "#         cropped_img = cropped_img.float()\n",
    "#         prediction = model(cropped_img)\n",
    "        \n",
    "#         print(prediction)\n",
    "#         cv2.putText(frame, emotion_dict[int(torch.argmax(prediction).item())], (x, y), cv2.FONT_HERSHEY_SIMPLEX, 0.8, (0, 255, 0), 1, cv2.LINE_AA)\n",
    "\n",
    "#     # Display\n",
    "#     cv2.imshow('frame', frame)\n",
    "    \n",
    "#     # Stop if q key is pressed\n",
    "#     if cv2.waitKey(1) & 0xFF == ord('q'):\n",
    "#         break\n",
    "        \n",
    "# # Release the VideoCapture object\n",
    "# cap.release()\n",
    "# cv2.destroyAllWindows()"
   ]
  },
  {
   "cell_type": "code",
   "execution_count": null,
   "metadata": {
    "collapsed": true
   },
   "outputs": [],
   "source": []
  },
  {
   "cell_type": "code",
   "execution_count": null,
   "metadata": {
    "collapsed": true
   },
   "outputs": [],
   "source": []
  }
 ],
 "metadata": {
  "kernelspec": {
   "display_name": "Python 3",
   "language": "python",
   "name": "python3"
  },
  "language_info": {
   "codemirror_mode": {
    "name": "ipython",
    "version": 2
   },
   "file_extension": ".py",
   "mimetype": "text/x-python",
   "name": "python",
   "nbconvert_exporter": "python",
   "pygments_lexer": "ipython2",
   "version": "2.7.14"
  }
 },
 "nbformat": 4,
 "nbformat_minor": 2
}
